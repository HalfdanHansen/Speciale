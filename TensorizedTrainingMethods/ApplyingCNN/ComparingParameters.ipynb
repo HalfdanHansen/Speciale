{
 "cells": [
  {
   "cell_type": "markdown",
   "metadata": {},
   "source": [
    "# MNIST"
   ]
  },
  {
   "cell_type": "code",
   "execution_count": 66,
   "metadata": {
    "colab": {
     "base_uri": "https://localhost:8080/"
    },
    "id": "S29Tu4XossDo",
    "outputId": "f0bc6001-1da6-4d1c-cd1a-908dbc8933ac"
   },
   "outputs": [
    {
     "name": "stdout",
     "output_type": "stream",
     "text": [
      "For MNIST CNN4, which has 2631 total parameters, of which 55.872291904218926 % are fully connected parameters.\n",
      "3D decomposed network has 1743 parameters. That is 66.24857468643101 % of total, which has 84.33734939759036 % fully connected parameters.\n",
      "4D decomposed network has 1540 parameters. That is 58.53287723299126 % of total, which has 95.45454545454545 % fully connected parameters.\n"
     ]
    }
   ],
   "source": [
    "full = (10*7*7*3)+(3*3*1*3)+(3*3*3*6)+(3*3*6*12)+(3*3*12*3)\n",
    "print(\"For MNIST CNN4, which has \" +str(full)+ \" total parameters, of which \" + str(100*(10*7*7*3)/full) + \" % are fully connected parameters.\")\n",
    "\n",
    "dec3D = (10*7*7*3)+((3+3+1)*3+(3+3+3)*6+(3+3+6)*12+(3+3+12)*3)\n",
    "print(\"3D decomposed network has \" + str(dec3D) + \" parameters. That is \" + str(100*dec3D/full) + \" % of total, which has \" + str(100*(10*7*7*3)/dec3D) + \" % fully connected parameters.\")\n",
    "\n",
    "dec4D = (10*7*7*3)+(3+3+1+3)+(3+3+3+6)+(3+3+6+12)+(3+3+12+3)\n",
    "print(\"4D decomposed network has \" + str(dec4D) + \" parameters. That is \" + str(100*dec4D/full) + \" % of total, which has \" + str(100*(10*7*7*3)/dec4D) + \" % fully connected parameters.\")"
   ]
  },
  {
   "cell_type": "code",
   "execution_count": 108,
   "metadata": {},
   "outputs": [
    {
     "name": "stdout",
     "output_type": "stream",
     "text": [
      "102018\n",
      "38220\n",
      "14455\n"
     ]
    }
   ],
   "source": [
    "#flop counting conv4\n",
    "\n",
    "def flopscnn(s,insc,outsc,k):\n",
    "    return k*k*s*s*insc*outsc\n",
    "\n",
    "def flopscnn3d(s,insc,outsc,k):\n",
    "    return (insc+k+k)*outsc*s*s\n",
    "\n",
    "def flopscnn4d(s,insc,outsc,k):\n",
    "    return (insc+k+k+outsc)*s*s\n",
    "\n",
    "def flopslin(ins,outs):\n",
    "    return ins*outs\n",
    "\n",
    "def flopsnetwork(channels,kernels,sizes,lin,floptype):\n",
    "    m = 0\n",
    "    for i in range(len(sizes)):\n",
    "        m += floptype(sizes[i],channels[i],channels[i+1],kernels[i])\n",
    "        #print(floptype(sizes[i],channels[i],channels[i+1],kernels[i]))\n",
    "    m += flopslin(lin[0],lin[1])\n",
    "    return m\n",
    "    \n",
    "print(flopsnetwork([1,3,6,12,3],[3,3,3,3],[28,14,7,7],[147,10],flopscnn))\n",
    "print(flopsnetwork([1,3,6,12,3],[3,3,3,3],[28,14,7,7],[147,10],flopscnn3d))\n",
    "print(flopsnetwork([1,3,6,12,3],[3,3,3,3],[28,14,7,7],[147,10],flopscnn4d))\n"
   ]
  },
  {
   "cell_type": "markdown",
   "metadata": {},
   "source": [
    "## MNIST Conv500"
   ]
  },
  {
   "cell_type": "code",
   "execution_count": 109,
   "metadata": {
    "colab": {
     "base_uri": "https://localhost:8080/"
    },
    "id": "VbA8iGKZ8kYA",
    "outputId": "50c155d7-e2bc-4ddb-e88e-da56b10cb2b1"
   },
   "outputs": [
    {
     "name": "stdout",
     "output_type": "stream",
     "text": [
      "For MNIST CNN500, which has 494496 total parameters, of which 0.1294247071766 % are fully connected parameters.\n",
      "3D decomposed network has 21344 parameters. That is 4.316313984339611 % of total, which has 2.998500749625187 % fully connected parameters.\n",
      "4D decomposed network has 1185 parameters. That is 0.23963793438167347 % of total, which has 54.0084388185654 % fully connected parameters.\n"
     ]
    }
   ],
   "source": [
    "full = (10*64)+(3*3*1*32)+(3*3*32*64)+(3*3*64*128)+(7*7*128*64)\n",
    "\n",
    "print(\"For MNIST CNN500, which has \" +str(full)+ \" total parameters, of which \" + str(100*(10*64)/full) + \" % are fully connected parameters.\")\n",
    "dec3D = (10*64)+((3+3+1)*32+(3+3+32)*64+(3+3+64)*128+(7+7+128)*64)\n",
    "print(\"3D decomposed network has \" + str(dec3D) + \" parameters. That is \" + str(100*dec3D/full) + \" % of total, which has \" + str(100*(10*64)/dec3D) + \" % fully connected parameters.\")\n",
    "''\n",
    "dec4D = (10*64)+(3+3+1+32)+(3+3+32+64)+(3+3+64+128)+(7+7+128+64)\n",
    "print(\"4D decomposed network has \" + str(dec4D) + \" parameters. That is \" + str(100*dec4D/full) + \" % of total, which has \" + str(100*(10*64)/dec4D) + \" % fully connected parameters.\")"
   ]
  },
  {
   "cell_type": "code",
   "execution_count": 110,
   "metadata": {},
   "outputs": [
    {
     "name": "stdout",
     "output_type": "stream",
     "text": [
      "7853184\n",
      "1101056\n",
      "61116\n"
     ]
    }
   ],
   "source": [
    "#channels,kernels,sizes,lin,floptype\n",
    "channels = [1,32,64,128,64]\n",
    "kernels = [3,3,3,7]\n",
    "sizes = [28,14,7,1]\n",
    "lin = [64,10]\n",
    "print(flopsnetwork(channels, kernels, sizes, lin, flopscnn))\n",
    "print(flopsnetwork(channels, kernels, sizes, lin, flopscnn3d))\n",
    "print(flopsnetwork(channels, kernels, sizes, lin, flopscnn4d))"
   ]
  },
  {
   "cell_type": "markdown",
   "metadata": {},
   "source": [
    "# CIFAR-10"
   ]
  },
  {
   "cell_type": "markdown",
   "metadata": {},
   "source": [
    "## conv500 rank 1"
   ]
  },
  {
   "cell_type": "code",
   "execution_count": 111,
   "metadata": {
    "colab": {
     "base_uri": "https://localhost:8080/"
    },
    "id": "AKnzu2lxoXeh",
    "outputId": "90e82ee4-0c1b-447d-d435-65c14874daef",
    "scrolled": true
   },
   "outputs": [
    {
     "name": "stdout",
     "output_type": "stream",
     "text": [
      "For CIFAR10 CNN500, which has 224736 total parameters, of which 0.28477858465043426 % are fully connected parameters.\n",
      "3D decomposed network has 21024 parameters. That is 9.354976505766766 % of total, which has 3.0441400304414 % fully connected parameters.\n",
      "4D decomposed network has 1181 parameters. That is 0.5255054819877545 % of total, which has 54.191363251481796 % fully connected parameters.\n"
     ]
    }
   ],
   "source": [
    "full = (10*64)+(3*3*3*32)+(3*3*32*64)+(3*3*64*128)+(4*4*128*64)\n",
    "print(\"For CIFAR10 CNN500, which has \" +str(full)+ \" total parameters, of which \" + str(100*(10*64)/full) + \" % are fully connected parameters.\")\n",
    "\n",
    "dec3D = (10*64)+((3+3+3)*32+(3+3+32)*64+(3+3+64)*128+(4+4+128)*64)\n",
    "print(\"3D decomposed network has \" + str(dec3D) + \" parameters. That is \" + str(100*dec3D/full) + \" % of total, which has \" + str(100*(10*64)/dec3D) + \" % fully connected parameters.\")\n",
    "\n",
    "dec4D = (10*64)+(3+3+3+32)+(3+3+32+64)+(3+3+64+128)+(4+4+128+64)\n",
    "print(\"4D decomposed network has \" + str(dec4D) + \" parameters. That is \" + str(100*dec4D/full) + \" % of total, which has \" + str(100*(10*64)/dec4D) + \" % fully connected parameters.\")"
   ]
  },
  {
   "cell_type": "code",
   "execution_count": 112,
   "metadata": {},
   "outputs": [
    {
     "name": "stdout",
     "output_type": "stream",
     "text": [
      "12419712\n",
      "1630848\n",
      "84608\n"
     ]
    }
   ],
   "source": [
    "#channels,kernels,sizes,lin,floptype\n",
    "channels = [3,32,64,128,64]\n",
    "kernels = [3,3,3,4]\n",
    "sizes = [32,16,8,4]\n",
    "lin = [64,10]\n",
    "print(flopsnetwork(channels, kernels, sizes, lin, flopscnn))\n",
    "print(flopsnetwork(channels, kernels, sizes, lin, flopscnn3d))\n",
    "print(flopsnetwork(channels, kernels, sizes, lin, flopscnn4d))"
   ]
  },
  {
   "cell_type": "markdown",
   "metadata": {},
   "source": [
    "## conv500 rank 8"
   ]
  },
  {
   "cell_type": "code",
   "execution_count": 113,
   "metadata": {},
   "outputs": [],
   "source": [
    "#flop counting conv4\n",
    "\n",
    "def flopsnetwork_rank(inchannels,outchannels,kernels,sizes,lin,rank,floptype):\n",
    "    m = 0\n",
    "    for i in range(len(sizes)):\n",
    "        m += floptype(sizes[i],rank*inchannels[i],rank*outchannels[i],rank*kernels[i])\n",
    "        #print(floptype(sizes[i],channels[i],channels[i+1],kernels[i]))\n",
    "    m += flopslin(lin[0],lin[1])\n",
    "    return m"
   ]
  },
  {
   "cell_type": "code",
   "execution_count": 114,
   "metadata": {},
   "outputs": [
    {
     "name": "stdout",
     "output_type": "stream",
     "text": [
      "4D decomposed network has 4968 parameters. That is 2.2105937633489963 % of total, which has 12.882447665056361 % fully connected parameters.\n",
      "672384\n"
     ]
    }
   ],
   "source": [
    "dec4D = (10*64)+8*((3+3+3+32)+(32+3+3+64)+(64+3+3+128)+(128+4+4+64))\n",
    "print(\"4D decomposed network has \" + str(dec4D) + \" parameters. That is \" + str(100*dec4D/full) + \" % of total, which has \" + str(100*(10*64)/dec4D) + \" % fully connected parameters.\")\n",
    "#inc+r*(k+k+outc)\n",
    "inchannels = [3,32,64,128]\n",
    "outchannels = [32,64,128,64]\n",
    "kernels = [3,3,3,4]\n",
    "sizes = [32,16,8,4]\n",
    "lin = [64,10]\n",
    "rank = 8\n",
    "\n",
    "print(flopsnetwork_rank(inchannels, outchannels, kernels, sizes, lin, rank, flopscnn4d))"
   ]
  },
  {
   "cell_type": "markdown",
   "metadata": {},
   "source": [
    "## conv500 Tucker rank 1"
   ]
  },
  {
   "cell_type": "code",
   "execution_count": 115,
   "metadata": {},
   "outputs": [],
   "source": [
    "def flopscnntucker(s,insc,outsc,k,r):\n",
    "    return (insc*r[0]+r[0]*k*k*r[1]+outsc*r[1])*s*s"
   ]
  },
  {
   "cell_type": "code",
   "execution_count": 116,
   "metadata": {},
   "outputs": [],
   "source": [
    "def flopsnetwork_tucker_rank(inchannels,outchannels,kernels,sizes,lin,rank,floptype):\n",
    "    m = 0\n",
    "    for i in range(len(sizes)):\n",
    "        m += floptype(sizes[i],inchannels[i],outchannels[i],kernels[i],r)\n",
    "        #print(floptype(sizes[i],channels[i],channels[i+1],kernels[i]))\n",
    "    m += flopslin(lin[0],lin[1])\n",
    "    return m"
   ]
  },
  {
   "cell_type": "code",
   "execution_count": 117,
   "metadata": {
    "colab": {
     "base_uri": "https://localhost:8080/"
    },
    "id": "ujT8ElsAroFj",
    "outputId": "dadd485e-0d00-4aa2-ed1e-d19ce60e9143"
   },
   "outputs": [
    {
     "name": "stdout",
     "output_type": "stream",
     "text": [
      "4D decomposed network has 1198 parameters. That is 0.5330699131425317 % of total, which has 53.42237061769616 % fully connected parameters.\n",
      "88768\n"
     ]
    }
   ],
   "source": [
    "r = [1,1]\n",
    "#inc*r1*1+r1*k*r2*k+r2*outc*1\n",
    "dec4D = (3*r[0]+r[0]*3*3*r[1]+r[1]*32) + (32*r[0]+r[0]*3*3*r[1]+r[1]*64) + (64*r[0]+r[0]*3*3*r[1]+r[1]*128)+ (128*r[0]+r[0]*4*4*r[1]+r[1]*64)+ (64*10)\n",
    "print(\"4D decomposed network has \" + str(dec4D) + \" parameters. That is \" + str(100*dec4D/full) + \" % of total, which has \" + str(100*(10*64)/dec4D) + \" % fully connected parameters.\")\n",
    "\n",
    "inchannels = [3,32,64,128]\n",
    "outchannels = [32,64,128,64]\n",
    "kernels = [3,3,3,4]\n",
    "sizes = [32,16,8,4]\n",
    "lin = [64,10]\n",
    "rank = [1,1]\n",
    "        \n",
    "print(flopsnetwork_tucker_rank(inchannels,outchannels,kernels,sizes,lin,rank,flopscnntucker))"
   ]
  },
  {
   "cell_type": "markdown",
   "metadata": {},
   "source": [
    "## conv500 Tucker rank 8"
   ]
  },
  {
   "cell_type": "code",
   "execution_count": 118,
   "metadata": {
    "id": "wORCvjX8uHR4"
   },
   "outputs": [
    {
     "name": "stdout",
     "output_type": "stream",
     "text": [
      "4D decomposed network has 7512 parameters. That is 3.3425886373344724 % of total, which has 8.519701810436635 % fully connected parameters.\n",
      "1397376\n"
     ]
    }
   ],
   "source": [
    "r = [8,8]\n",
    "dec4D = (3*r[0]+r[0]*3*3*r[1]+r[1]*32) + (32*r[0]+r[0]*3*3*r[1]+r[1]*64) + (64*r[0]+r[0]*3*3*r[1]+r[1]*128)+ (128*r[0]+r[0]*4*4*r[1]+r[1]*64)+ (64*10)\n",
    "print(\"4D decomposed network has \" + str(dec4D) + \" parameters. That is \" + str(100*dec4D/full) + \" % of total, which has \" + str(100*(10*64)/dec4D) + \" % fully connected parameters.\")\n",
    "\n",
    "inchannels = [3,32,64,128]\n",
    "outchannels = [32,64,128,64]\n",
    "kernels = [3,3,3,4]\n",
    "sizes = [32,16,8,4]\n",
    "lin = [64,10]\n",
    "rank = [8,8]\n",
    "        \n",
    "print(flopsnetwork_tucker_rank(inchannels,outchannels,kernels,sizes,lin,rank,flopscnntucker))"
   ]
  },
  {
   "cell_type": "markdown",
   "metadata": {},
   "source": [
    "# papernet2"
   ]
  },
  {
   "cell_type": "markdown",
   "metadata": {},
   "source": [
    "## rank 1"
   ]
  },
  {
   "cell_type": "code",
   "execution_count": 119,
   "metadata": {},
   "outputs": [
    {
     "name": "stdout",
     "output_type": "stream",
     "text": [
      "For CIFAR10 papernet2, which has 5953472 total parameters, of which 79.34381819550003 % are fully connected parameters.\n",
      "3D decomposed network has 4865920 parameters. That is 81.7324747643056 % of total, which has 97.07746941996581 % are fully connected parameters.\n",
      "4D decomposed network has 4725351 parameters. That is 79.37134834933296 % of total, which has 99.96531474593104 % are fully connected parameters.\n"
     ]
    }
   ],
   "source": [
    "conv = (3*3*3*64)+(3*3*64*64)+(3*3*64*144)+(3*3*144*144)+(3*3*144*256)+(3*3*256*256)\n",
    "lin = (4*4*256*1024)+(1024*512)+(512*10)\n",
    "full = conv+lin\n",
    "print(\"For CIFAR10 papernet2, which has \" +str(full)+ \" total parameters, of which \" + str(100*(lin)/full) + \" % are fully connected parameters.\")\n",
    "conv = (3+3+3)*64+(3+3+64)*64+(3+3+64)*144+(3+3+144)*144+(3+3+144)*256+(3+3+256)*256\n",
    "dec3D = conv+lin\n",
    "print(\"3D decomposed network has \" + str(dec3D) + \" parameters. That is \" + str(100*dec3D/full) + \" % of total, which has \" + str(100*(lin)/dec3D) + \" % are fully connected parameters.\")\n",
    "conv = (3+3+3+64)+(3+3+64+64)+(3+3+64+144)+(3+3+144+144)+(3+3+144+256)+(3+3+256+256)\n",
    "dec4D = conv+lin\n",
    "print(\"4D decomposed network has \" + str(dec4D) + \" parameters. That is \" + str(100*dec4D/full) + \" % of total, which has \" + str(100*(lin)/dec4D) + \" % are fully connected parameters.\")"
   ]
  },
  {
   "cell_type": "code",
   "execution_count": 120,
   "metadata": {},
   "outputs": [],
   "source": [
    "#flop counting conv4\n",
    "\n",
    "def flopscnn(s,insc,outsc,k):\n",
    "    return k*k*s*s*insc*outsc\n",
    "\n",
    "def flopscnn3d(s,insc,outsc,k):\n",
    "    return (insc+k+k)*outsc*s*s\n",
    "\n",
    "def flopscnn4d(s,insc,outsc,k):\n",
    "    return (insc+k+k+outsc)*s*s\n",
    "\n",
    "def flopslin(ins,outs):\n",
    "    return ins*outs\n",
    "\n",
    "def flopsnetwork(inchannels, outchannels,kernels,sizes,lin,floptype):\n",
    "    m = 0\n",
    "    for i in range(len(sizes)):\n",
    "        m += floptype(sizes[i],inchannels[i],outchannels[i],kernels[i])\n",
    "        #print(floptype(sizes[i],channels[i],channels[i+1],kernels[i]))\n",
    "    for l in lin:\n",
    "        m += flopslin(l[0],l[1])\n",
    "    return m"
   ]
  },
  {
   "cell_type": "code",
   "execution_count": 121,
   "metadata": {},
   "outputs": [
    {
     "name": "stdout",
     "output_type": "stream",
     "text": [
      "172233728\n",
      "24761344\n",
      "5124864\n"
     ]
    }
   ],
   "source": [
    "#channels,kernels,sizes,lin,floptype\n",
    "inchannels = [3,64,64,144,144,256]\n",
    "outchannels = [64,64,144,144,256,256]\n",
    "kernels = [3,3,3,3,3,3]\n",
    "sizes = [32,32,16,16,8,8]\n",
    "lin = [[4*4*256,1024],[1024,512],[512,10]]\n",
    "print(flopsnetwork(inchannels, outchannels, kernels, sizes, lin, flopscnn))\n",
    "print(flopsnetwork(inchannels, outchannels, kernels, sizes, lin, flopscnn3d))\n",
    "print(flopsnetwork(inchannels, outchannels, kernels, sizes, lin, flopscnn4d))"
   ]
  },
  {
   "cell_type": "markdown",
   "metadata": {},
   "source": [
    "## rank 8"
   ]
  },
  {
   "cell_type": "code",
   "execution_count": 124,
   "metadata": {},
   "outputs": [],
   "source": [
    "#flop counting conv4\n",
    "\n",
    "def flopsnetwork_rank(inchannels,outchannels,kernels,sizes,lin,rank,floptype):\n",
    "    m = 0\n",
    "    for i in range(len(sizes)):\n",
    "        m += floptype(sizes[i],rank*inchannels[i],rank*outchannels[i],rank*kernels[i])\n",
    "        #print(floptype(sizes[i],channels[i],channels[i+1],kernels[i]))\n",
    "    for l in lin:\n",
    "        m += flopslin(l[0],l[1])\n",
    "    return m"
   ]
  },
  {
   "cell_type": "code",
   "execution_count": 125,
   "metadata": {},
   "outputs": [
    {
     "name": "stdout",
     "output_type": "stream",
     "text": [
      "4D decomposed network has 4736824 parameters. That is 79.56405942616342 % of total, which has 99.72319005308198 % fully connected parameters.\n",
      "7932928\n"
     ]
    }
   ],
   "source": [
    "conv = 8*((3+3+3+64)+(64+3+3+64)+(64+3+3+144)+(144+3+3+144)+(144+3+3+256)+(256+3+3+256))\n",
    "lin = (4*4*256*1024)+(1024*512)+(512*10)\n",
    "dec4D = conv+lin\n",
    "print(\"4D decomposed network has \" + str(dec4D) + \" parameters. That is \" + str(100*dec4D/full) + \" % of total, which has \" + str(100*lin/dec4D) + \" % fully connected parameters.\")\n",
    "#inc+r*(k+k+outc)\n",
    "inchannels = [3,64,64,144,144,256]\n",
    "outchannels = [64,64,144,144,256,256]\n",
    "kernels = [3,3,3,3,3,3]\n",
    "sizes = [32,32,16,16,8,8]\n",
    "lin = [[4*4*256,1024],[1024,512],[512,10]]\n",
    "rank = 8\n",
    "\n",
    "print(flopsnetwork_rank(inchannels, outchannels, kernels, sizes, lin, rank, flopscnn4d))"
   ]
  },
  {
   "cell_type": "markdown",
   "metadata": {},
   "source": [
    "## tucker2 rank 1 "
   ]
  },
  {
   "cell_type": "code",
   "execution_count": 126,
   "metadata": {},
   "outputs": [],
   "source": [
    "def flopscnntucker(s,insc,outsc,k,r):\n",
    "    return (insc*r[0]+r[0]*k*k*r[1]+outsc*r[1])*s*s\n",
    "\n",
    "def flopsnetwork_tucker_rank(inchannels,outchannels,kernels,sizes,lin,rank,floptype):\n",
    "    m = 0\n",
    "    for i in range(len(sizes)):\n",
    "        m += floptype(sizes[i],inchannels[i],outchannels[i],kernels[i],r)\n",
    "        #print(floptype(sizes[i],channels[i],channels[i+1],kernels[i]))\n",
    "    for l in lin:\n",
    "        m += flopslin(l[0],l[1])\n",
    "    return m"
   ]
  },
  {
   "cell_type": "code",
   "execution_count": 127,
   "metadata": {},
   "outputs": [
    {
     "name": "stdout",
     "output_type": "stream",
     "text": [
      "4D decomposed network has 4725369 parameters. That is 79.3716506939144 % of total, which has 99.96493395542231 % fully connected parameters.\n",
      "5132928\n"
     ]
    }
   ],
   "source": [
    "r = [1,1]\n",
    "#inc*r1*1+r1*k*r2*k+r2*outc*1\n",
    "conv = (3*r[0]+r[0]*3*3*r[1]+r[1]*64) + (64*r[0]+r[0]*3*3*r[1]+r[1]*64) + (64*r[0]+r[0]*3*3*r[1]+r[1]*144)+ (144*r[0]+r[0]*3*3*r[1]+r[1]*144) + (144*r[0]+r[0]*3*3*r[1]+r[1]*256) + (256*r[0]+r[0]*3*3*r[1]+r[1]*256)\n",
    "lin = (4*4*256*1024)+(1024*512)+(512*10)\n",
    "dec4D = conv+lin\n",
    "print(\"4D decomposed network has \" + str(dec4D) + \" parameters. That is \" + str(100*dec4D/full) + \" % of total, which has \" + str(100*lin/dec4D) + \" % fully connected parameters.\")\n",
    "\n",
    "inchannels = [3,64,64,144,144,256]\n",
    "outchannels = [64,64,144,144,256,256]\n",
    "kernels = [3,3,3,3,3,3]\n",
    "sizes = [32,32,16,16,8,8]\n",
    "lin = [[4*4*256,1024],[1024,512],[512,10]]\n",
    "rank = [1,1]\n",
    "        \n",
    "print(flopsnetwork_tucker_rank(inchannels,outchannels,kernels,sizes,lin,rank,flopscnntucker))"
   ]
  },
  {
   "cell_type": "markdown",
   "metadata": {},
   "source": [
    "## rank 8"
   ]
  },
  {
   "cell_type": "code",
   "execution_count": 128,
   "metadata": {},
   "outputs": [
    {
     "name": "stdout",
     "output_type": "stream",
     "text": [
      "4D decomposed network has 4739992 parameters. That is 79.6172720724982 % of total, which has 99.65653950470802 % fully connected parameters.\n",
      "9352192\n"
     ]
    }
   ],
   "source": [
    "r = [8,8]\n",
    "#inc*r1*1+r1*k*r2*k+r2*outc*1\n",
    "conv = (3*r[0]+r[0]*3*3*r[1]+r[1]*64) + (64*r[0]+r[0]*3*3*r[1]+r[1]*64) + (64*r[0]+r[0]*3*3*r[1]+r[1]*144)+ (144*r[0]+r[0]*3*3*r[1]+r[1]*144) + (144*r[0]+r[0]*3*3*r[1]+r[1]*256) + (256*r[0]+r[0]*3*3*r[1]+r[1]*256)\n",
    "lin = (4*4*256*1024)+(1024*512)+(512*10)\n",
    "dec4D = conv+lin\n",
    "print(\"4D decomposed network has \" + str(dec4D) + \" parameters. That is \" + str(100*dec4D/full) + \" % of total, which has \" + str(100*lin/dec4D) + \" % fully connected parameters.\")\n",
    "\n",
    "inchannels = [3,64,64,144,144,256]\n",
    "outchannels = [64,64,144,144,256,256]\n",
    "kernels = [3,3,3,3,3,3]\n",
    "sizes = [32,32,16,16,8,8]\n",
    "lin = [[4*4*256,1024],[1024,512],[512,10]]\n",
    "rank = [8,8]\n",
    "        \n",
    "print(flopsnetwork_tucker_rank(inchannels,outchannels,kernels,sizes,lin,rank,flopscnntucker))"
   ]
  },
  {
   "cell_type": "markdown",
   "metadata": {},
   "source": [
    "# Papernet4"
   ]
  },
  {
   "cell_type": "markdown",
   "metadata": {},
   "source": [
    "## Rank 1"
   ]
  },
  {
   "cell_type": "code",
   "execution_count": 129,
   "metadata": {},
   "outputs": [
    {
     "name": "stdout",
     "output_type": "stream",
     "text": [
      "For CIFAR10 papernet2, which has 15851120 total parameters, of which 41.58373666971167 % are fully connected parameters.\n",
      "3D decomposed network has 7639056 parameters. That is 48.19253150566017 % of total, which has 86.28668254297389 % are fully connected parameters.\n",
      "4D decomposed network has 6597313 parameters. That is 41.620484861637536 % of total, which has 99.91170647807675 % are fully connected parameters.\n"
     ]
    }
   ],
   "source": [
    "conv = (3*3*3*64)+(3*3*64*64)+(3*3*64*144)+(3*3*144*144)+(3*3*144*256)+(3*3*256*256)+(3*3*256*256)+(3*3*256*484)+(3*3*484*484)+(3*3*484*484)+(3*3*484*484)\n",
    "lin = (4*484*2048)+(2048*1024)+(1024*512)+(512*10)\n",
    "full = conv+lin\n",
    "print(\"For CIFAR10 papernet2, which has \" +str(full)+ \" total parameters, of which \" + str(100*(lin)/full) + \" % are fully connected parameters.\")\n",
    "conv = (3+3+3)*64+(3+3+64)*64+(3+3+64)*144+(3+3+144)*144+(3+3+144)*256+(3+3+256)*256+(3+3+256)*256+(3+3+256)*484+(3+3+484)*484+(3+3+484)*484+(3+3+484)*484\n",
    "dec3D = conv+lin\n",
    "print(\"3D decomposed network has \" + str(dec3D) + \" parameters. That is \" + str(100*dec3D/full) + \" % of total, which has \" + str(100*(lin)/dec3D) + \" % are fully connected parameters.\")\n",
    "conv = (3+3+3+64)+(3+3+64+64)+(3+3+64+144)+(3+3+144+144)+(3+3+144+256)+(3+3+256+256)+(3+3+256+256)+(3+3+256+484)+(3+3+484+484)+(3+3+484+484)+(3+3+484+484)\n",
    "dec4D = conv+lin\n",
    "print(\"4D decomposed network has \" + str(dec4D) + \" parameters. That is \" + str(100*dec4D/full) + \" % of total, which has \" + str(100*(lin)/dec4D) + \" % are fully connected parameters.\")"
   ]
  },
  {
   "cell_type": "code",
   "execution_count": 130,
   "metadata": {},
   "outputs": [
    {
     "name": "stdout",
     "output_type": "stream",
     "text": [
      "297158144\n",
      "40539776\n",
      "7068896\n"
     ]
    }
   ],
   "source": [
    "#channels,kernels,sizes,lin,floptype\n",
    "inchannels = [3,64,64,144,144,256,256,256,484,484,484]\n",
    "outchannels = [64,64,144,144,256,256,256,484,484,484]\n",
    "kernels = [3,3,3,3,3,3,3,3,3,3,3]\n",
    "sizes = [32,32,16,16,8,8,8,4,4,4]\n",
    "lin = [[4*484,2048],[2048,1024],[1024,512],[512,10]]\n",
    "print(flopsnetwork(inchannels, outchannels, kernels, sizes, lin, flopscnn))\n",
    "print(flopsnetwork(inchannels, outchannels, kernels, sizes, lin, flopscnn3d))\n",
    "print(flopsnetwork(inchannels, outchannels, kernels, sizes, lin, flopscnn4d))"
   ]
  },
  {
   "cell_type": "markdown",
   "metadata": {},
   "source": [
    "## Rank 8"
   ]
  },
  {
   "cell_type": "code",
   "execution_count": 132,
   "metadata": {},
   "outputs": [
    {
     "name": "stdout",
     "output_type": "stream",
     "text": [
      "4D decomposed network has 6638088 parameters. That is 41.87772220511863 % of total, which has 99.29799062621646 % fully connected parameters.\n",
      "10410752\n"
     ]
    }
   ],
   "source": [
    "r = 8\n",
    "conv = r*((3+3+3+64)+(64+3+3+64)+(64+3+3+144)+(144+3+3+144)+(144+3+3+256)+(256+3+3+256)+(256+3+3+256)+(256+3+3+484)+(484+3+3+484)+(484+3+3+484)+(484+3+3+484))\n",
    "lin = (4*484*2048)+(2048*1024)+(1024*512)+(512*10)\n",
    "dec4D = conv+lin\n",
    "print(\"4D decomposed network has \" + str(dec4D) + \" parameters. That is \" + str(100*dec4D/full) + \" % of total, which has \" + str(100*lin/dec4D) + \" % fully connected parameters.\")\n",
    "#inc+r*(k+k+outc)\n",
    "inchannels = [3,64,64,144,144,256,256,256,484,484,484]\n",
    "outchannels = [64,64,144,144,256,256,256,484,484,484]\n",
    "kernels = [3,3,3,3,3,3,3,3,3,3,3]\n",
    "sizes = [32,32,16,16,8,8,8,4,4,4]\n",
    "lin = [[4*484,2048],[2048,1024],[1024,512],[512,10]]\n",
    "rank = 8\n",
    "\n",
    "print(flopsnetwork_rank(inchannels, outchannels, kernels, sizes, lin, rank, flopscnn4d))"
   ]
  },
  {
   "cell_type": "markdown",
   "metadata": {},
   "source": [
    "## tucker2 rank 1"
   ]
  },
  {
   "cell_type": "code",
   "execution_count": 133,
   "metadata": {},
   "outputs": [
    {
     "name": "stdout",
     "output_type": "stream",
     "text": [
      "4D decomposed network has 4729570 parameters. That is 29.83744997198936 % of total, which has 99.87614095996042 % fully connected parameters.\n",
      "7077296\n"
     ]
    }
   ],
   "source": [
    "r = [1,1]\n",
    "#inc*r1*1+r1*k*r2*k+r2*outc*1\n",
    "conv = (3*r[0]+r[0]*3*3*r[1]+r[1]*64) + (64*r[0]+r[0]*3*3*r[1]+r[1]*64) + (64*r[0]+r[0]*3*3*r[1]+r[1]*144)+ (144*r[0]+r[0]*3*3*r[1]+r[1]*144) + (144*r[0]+r[0]*3*3*r[1]+r[1]*256) + (256*r[0]+r[0]*3*3*r[1]+r[1]*256) + (256*r[0]+r[0]*3*3*r[1]+r[1]*256) +  (256*r[0]+r[0]*3*3*r[1]+r[1]*484) +  (484*r[0]+r[0]*3*3*r[1]+r[1]*484) + (484*r[0]+r[0]*3*3*r[1]+r[1]*484) + (484*r[0]+r[0]*3*3*r[1]+r[1]*484)\n",
    "lin = (4*4*256*1024)+(1024*512)+(512*10)\n",
    "dec4D = conv+lin\n",
    "print(\"4D decomposed network has \" + str(dec4D) + \" parameters. That is \" + str(100*dec4D/full) + \" % of total, which has \" + str(100*lin/dec4D) + \" % fully connected parameters.\")\n",
    "\n",
    "inchannels = [3,64,64,144,144,256,256,256,484,484,484]\n",
    "outchannels = [64,64,144,144,256,256,256,484,484,484]\n",
    "kernels = [3,3,3,3,3,3,3,3,3,3,3]\n",
    "sizes = [32,32,16,16,8,8,8,4,4,4]\n",
    "lin = [[4*484,2048],[2048,1024],[1024,512],[512,10]]\n",
    "rank = [1,1]\n",
    "        \n",
    "print(flopsnetwork_tucker_rank(inchannels,outchannels,kernels,sizes,lin,rank,flopscnntucker))"
   ]
  },
  {
   "cell_type": "markdown",
   "metadata": {},
   "source": [
    "## rank 8"
   ]
  },
  {
   "cell_type": "code",
   "execution_count": 134,
   "metadata": {},
   "outputs": [
    {
     "name": "stdout",
     "output_type": "stream",
     "text": [
      "4D decomposed network has 4776120 parameters. That is 30.131120072272495 % of total, which has 98.90270763716154 % fully connected parameters.\n",
      "11889152\n"
     ]
    }
   ],
   "source": [
    "r = [8,8]\n",
    "#inc*r1*1+r1*k*r2*k+r2*outc*1\n",
    "conv = (3*r[0]+r[0]*3*3*r[1]+r[1]*64) + (64*r[0]+r[0]*3*3*r[1]+r[1]*64) + (64*r[0]+r[0]*3*3*r[1]+r[1]*144)+ (144*r[0]+r[0]*3*3*r[1]+r[1]*144) + (144*r[0]+r[0]*3*3*r[1]+r[1]*256) + (256*r[0]+r[0]*3*3*r[1]+r[1]*256) + (256*r[0]+r[0]*3*3*r[1]+r[1]*256) +  (256*r[0]+r[0]*3*3*r[1]+r[1]*484) +  (484*r[0]+r[0]*3*3*r[1]+r[1]*484) + (484*r[0]+r[0]*3*3*r[1]+r[1]*484) + (484*r[0]+r[0]*3*3*r[1]+r[1]*484)\n",
    "lin = (4*4*256*1024)+(1024*512)+(512*10)\n",
    "dec4D = conv+lin\n",
    "print(\"4D decomposed network has \" + str(dec4D) + \" parameters. That is \" + str(100*dec4D/full) + \" % of total, which has \" + str(100*lin/dec4D) + \" % fully connected parameters.\")\n",
    "\n",
    "inchannels = [3,64,64,144,144,256,256,256,484,484,484]\n",
    "outchannels = [64,64,144,144,256,256,256,484,484,484]\n",
    "kernels = [3,3,3,3,3,3,3,3,3,3,3]\n",
    "sizes = [32,32,16,16,8,8,8,4,4,4]\n",
    "lin = [[4*484,2048],[2048,1024],[1024,512],[512,10]]\n",
    "rank = [8,8]\n",
    "        \n",
    "print(flopsnetwork_tucker_rank(inchannels,outchannels,kernels,sizes,lin,rank,flopscnntucker))"
   ]
  },
  {
   "cell_type": "markdown",
   "metadata": {},
   "source": [
    "# Webnet"
   ]
  },
  {
   "cell_type": "code",
   "execution_count": 135,
   "metadata": {},
   "outputs": [
    {
     "name": "stdout",
     "output_type": "stream",
     "text": [
      "For CIFAR100 webnet, which has 30425456 total parameters, of which 0.3378749689076147 % are fully connected parameters.\n",
      "3D decomposed network has 3503928 parameters. That is 11.516435448001173 % of total, which has 2.9338502389318504 % are fully connected parameters.\n",
      "4D decomposed network has 112489 parameters. That is 0.36972001339930616 % of total, which has 91.38671336752927 % are fully connected parameters.\n"
     ]
    }
   ],
   "source": [
    "conv = (3*3*3*64)+(64*3*3*128)+(128*3*3*128)+(128*3*3*128)+(128*3*3*256)+(256*3*3*512)+(512*3*3*512)+(512*3*3*512)+(512*3*3*1028)+(1028*3*3*1028)+(1028*3*3*1028)\n",
    "lin = 1028*100\n",
    "full = conv+lin\n",
    "print(\"For CIFAR100 webnet, which has \" +str(full)+ \" total parameters, of which \" + str(100*(lin)/full) + \" % are fully connected parameters.\")\n",
    "conv = (3+3+3)*64+(64+3+3)*128+(128+3+3)*128+(128+3+3)*128+(128+3+3)*256+(256+3+3)*512+(512+3+3)*512+(512+3+3)*512+(512+3+3)*1028+(1028+3+3)*1028+(1028+3+3)*1028\n",
    "dec3D = conv+lin\n",
    "print(\"3D decomposed network has \" + str(dec3D) + \" parameters. That is \" + str(100*dec3D/full) + \" % of total, which has \" + str(100*(lin)/dec3D) + \" % are fully connected parameters.\")\n",
    "conv = (3+3+3+64)+(64+3+3+128)+(128+3+3+128)+(128+3+3+128)+(128+3+3+256)+(256+3+3+512)+(512+3+3+512)+(512+3+3+512)+(512+3+3+1028)+(1028+3+3+1028)+(1028+3+3+1028)\n",
    "dec4D = conv+lin\n",
    "print(\"4D decomposed network has \" + str(dec4D) + \" parameters. That is \" + str(100*dec4D/full) + \" % of total, which has \" + str(100*(lin)/dec4D) + \" % are fully connected parameters.\")"
   ]
  },
  {
   "cell_type": "code",
   "execution_count": 136,
   "metadata": {},
   "outputs": [],
   "source": [
    "def flopsnetwork(inchannels,outchannels,kernels,sizes,lin,floptype):\n",
    "    m = 0\n",
    "    for i in range(len(sizes)):\n",
    "        m += floptype(sizes[i],inchannels[i],outchannels[i],kernels[i])\n",
    "        #print(floptype(sizes[i],channels[i],channels[i+1],kernels[i]))\n",
    "    m += flopslin(lin[0],lin[1])\n",
    "    return m"
   ]
  },
  {
   "cell_type": "code",
   "execution_count": 137,
   "metadata": {},
   "outputs": [
    {
     "name": "stdout",
     "output_type": "stream",
     "text": [
      "701996240\n",
      "80426544\n",
      "737320\n"
     ]
    }
   ],
   "source": [
    "#channels,kernels,sizes,lin,floptype\n",
    "inchannels = [3,64,128,128,128,256,512,512,512,1028,1028]\n",
    "outchannels = [64,128,128,128,256,512,512,512,1028,1028,1028]\n",
    "kernels = [3,3,3,3,3,3,3,3,3,3,3]\n",
    "sizes = [32,32,16,16,8,8,8,4,4,4,2]\n",
    "lin = [1028,100]\n",
    "print(flopsnetwork(inchannels, outchannels, kernels, sizes, lin, flopscnn))\n",
    "print(flopsnetwork(inchannels, outchannels, kernels, sizes, lin, flopscnn3d))\n",
    "print(flopsnetwork(inchannels, outchannels, kernels, sizes, lin, flopscnn4d))"
   ]
  },
  {
   "cell_type": "code",
   "execution_count": 141,
   "metadata": {},
   "outputs": [],
   "source": [
    "#flop counting conv4\n",
    "\n",
    "def flopsnetwork_rank(inchannels,outchannels,kernels,sizes,lin,rank,floptype):\n",
    "    m = 0\n",
    "    for i in range(len(sizes)):\n",
    "        m += floptype(sizes[i],rank*inchannels[i],rank*outchannels[i],rank*kernels[i])\n",
    "        #print(floptype(sizes[i],channels[i],channels[i+1],kernels[i]))\n",
    "    m += flopslin(lin[0],lin[1])\n",
    "    return m"
   ]
  },
  {
   "cell_type": "code",
   "execution_count": 144,
   "metadata": {},
   "outputs": [
    {
     "name": "stdout",
     "output_type": "stream",
     "text": [
      "4D decomposed network has 180312 parameters. That is 0.5926353248411462 % of total, which has 57.0122898087759 % fully connected parameters.\n",
      "5178960\n"
     ]
    }
   ],
   "source": [
    "r = 8\n",
    "conv = r*((3+3+3+64)+(64+3+3+128)+(128+3+3+128)+(128+3+3+128)+(128+3+3+256)+(256+3+3+512)+(512+3+3+512)+(512+3+3+512)+(512+3+3+1028)+(1028+3+3+1028)+(1028+3+3+1028))\n",
    "lin = 1028*100\n",
    "dec4D = conv+lin\n",
    "print(\"4D decomposed network has \" + str(dec4D) + \" parameters. That is \" + str(100*dec4D/full) + \" % of total, which has \" + str(100*lin/dec4D) + \" % fully connected parameters.\")\n",
    "#inc+r*(k+k+outc)\n",
    "inchannels = [3,64,128,128,128,256,512,512,512,1028,1028]\n",
    "outchannels = [64,128,128,128,256,512,512,512,1028,1028,1028]\n",
    "kernels = [3,3,3,3,3,3,3,3,3,3,3]\n",
    "sizes = [32,32,16,16,8,8,8,4,4,4,2]\n",
    "lin = [1028,100]\n",
    "rank = 8\n",
    "\n",
    "print(flopsnetwork_rank(inchannels, outchannels, kernels, sizes, lin, rank, flopscnn4d))"
   ]
  },
  {
   "cell_type": "code",
   "execution_count": 145,
   "metadata": {},
   "outputs": [],
   "source": [
    "def flopsnetwork_tucker_rank(inchannels,outchannels,kernels,sizes,lin,rank,floptype):\n",
    "    m = 0\n",
    "    for i in range(len(sizes)):\n",
    "        m += floptype(sizes[i],inchannels[i],outchannels[i],kernels[i],r)\n",
    "        #print(floptype(sizes[i],channels[i],channels[i+1],kernels[i]))\n",
    "    m += flopslin(lin[0],lin[1])\n",
    "    return m"
   ]
  },
  {
   "cell_type": "code",
   "execution_count": 146,
   "metadata": {},
   "outputs": [
    {
     "name": "stdout",
     "output_type": "stream",
     "text": [
      "4D decomposed network has 112522 parameters. That is 0.3698284752083913 % of total, which has 0.5687776612573541 % fully connected parameters.\n",
      "745732\n"
     ]
    }
   ],
   "source": [
    "r = [1,1]\n",
    "#inc*r1*1+r1*k*r2*k+r2*outc*1\n",
    "inchannels = [3,64,128,128,128,256,512,512,512,1028,1028]\n",
    "outchannels = [64,128,128,128,256,512,512,512,1028,1028,1028]\n",
    "kernels = [3,3,3,3,3,3,3,3,3,3,3]\n",
    "sizes = [32,32,16,16,8,8,8,4,4,4,2]\n",
    "lin = [1028,100]\n",
    "dec4D = 0\n",
    "for i in range(len(inchannels)):\n",
    "    dec4D += (inchannels[i]*r[0]+r[0]*kernels[i]*kernels[i]*r[1]+r[1]*outchannels[i])\n",
    "dec4D += lin[0]*lin[1]\n",
    "print(\"4D decomposed network has \" + str(dec4D) + \" parameters. That is \" + str(100*dec4D/full) + \" % of total, which has \" + str(100*(10*64)/dec4D) + \" % fully connected parameters.\")\n",
    "        \n",
    "print(flopsnetwork_tucker_rank(inchannels,outchannels,kernels,sizes,lin,rank,flopscnntucker))"
   ]
  },
  {
   "cell_type": "code",
   "execution_count": 147,
   "metadata": {},
   "outputs": [
    {
     "name": "stdout",
     "output_type": "stream",
     "text": [
      "4D decomposed network has 186120 parameters. That is 0.6117246032401289 % of total, which has 0.3438641736514077 % fully connected parameters.\n",
      "6659472\n"
     ]
    }
   ],
   "source": [
    "r = [8,8]\n",
    "#inc*r1*1+r1*k*r2*k+r2*outc*1\n",
    "inchannels = [3,64,128,128,128,256,512,512,512,1028,1028]\n",
    "outchannels = [64,128,128,128,256,512,512,512,1028,1028,1028]\n",
    "kernels = [3,3,3,3,3,3,3,3,3,3,3]\n",
    "sizes = [32,32,16,16,8,8,8,4,4,4,2]\n",
    "lin = [1028,100]\n",
    "dec4D = 0\n",
    "for i in range(len(inchannels)):\n",
    "    dec4D += (inchannels[i]*r[0]+r[0]*kernels[i]*kernels[i]*r[1]+r[1]*outchannels[i])\n",
    "dec4D += lin[0]*lin[1]\n",
    "print(\"4D decomposed network has \" + str(dec4D) + \" parameters. That is \" + str(100*dec4D/full) + \" % of total, which has \" + str(100*(10*64)/dec4D) + \" % fully connected parameters.\")\n",
    "        \n",
    "print(flopsnetwork_tucker_rank(inchannels,outchannels,kernels,sizes,lin,rank,flopscnntucker))"
   ]
  },
  {
   "cell_type": "code",
   "execution_count": null,
   "metadata": {},
   "outputs": [],
   "source": []
  }
 ],
 "metadata": {
  "colab": {
   "collapsed_sections": [],
   "name": "ComparingParameters",
   "provenance": []
  },
  "kernelspec": {
   "display_name": "Python 3",
   "language": "python",
   "name": "python3"
  },
  "language_info": {
   "codemirror_mode": {
    "name": "ipython",
    "version": 3
   },
   "file_extension": ".py",
   "mimetype": "text/x-python",
   "name": "python",
   "nbconvert_exporter": "python",
   "pygments_lexer": "ipython3",
   "version": "3.8.5"
  }
 },
 "nbformat": 4,
 "nbformat_minor": 1
}
