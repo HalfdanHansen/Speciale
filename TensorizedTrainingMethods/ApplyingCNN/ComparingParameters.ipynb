{
 "cells": [
  {
   "cell_type": "markdown",
   "metadata": {},
   "source": [
    "# MNIST Conv4"
   ]
  },
  {
   "cell_type": "code",
   "execution_count": 1,
   "metadata": {
    "colab": {
     "base_uri": "https://localhost:8080/"
    },
    "id": "S29Tu4XossDo",
    "outputId": "f0bc6001-1da6-4d1c-cd1a-908dbc8933ac"
   },
   "outputs": [
    {
     "name": "stdout",
     "output_type": "stream",
     "text": [
      "1470\n",
      "For MNIST CNN4, which has 2631 total parameters, of which 55.872291904218926 % are fully connected parameters.\n",
      "3D decomposed network has 1743 parameters. That is 66.24857468643101 % of total, which has 84.33734939759036 % fully connected parameters.\n",
      "4D decomposed network has 1540 parameters. That is 58.53287723299126 % of total, which has 95.45454545454545 % fully connected parameters.\n"
     ]
    }
   ],
   "source": [
    "lin = 10*7*7*3\n",
    "print(lin)\n",
    "full = (10*7*7*3)+(3*3*1*3)+(3*3*3*6)+(3*3*6*12)+(3*3*12*3)\n",
    "print(\"For MNIST CNN4, which has \" +str(full)+ \" total parameters, of which \" + str(100*(10*7*7*3)/full) + \" % are fully connected parameters.\")\n",
    "\n",
    "dec3D = (10*7*7*3)+((3+3+1)*3+(3+3+3)*6+(3+3+6)*12+(3+3+12)*3)\n",
    "print(\"3D decomposed network has \" + str(dec3D) + \" parameters. That is \" + str(100*dec3D/full) + \" % of total, which has \" + str(100*(10*7*7*3)/dec3D) + \" % fully connected parameters.\")\n",
    "\n",
    "dec4D = (10*7*7*3)+(3+3+1+3)+(3+3+3+6)+(3+3+6+12)+(3+3+12+3)\n",
    "print(\"4D decomposed network has \" + str(dec4D) + \" parameters. That is \" + str(100*dec4D/full) + \" % of total, which has \" + str(100*(10*7*7*3)/dec4D) + \" % fully connected parameters.\")"
   ]
  },
  {
   "cell_type": "code",
   "execution_count": 2,
   "metadata": {},
   "outputs": [
    {
     "data": {
      "text/plain": [
       "0.56"
      ]
     },
     "execution_count": 2,
     "metadata": {},
     "output_type": "execute_result"
    }
   ],
   "source": [
    "round(lin/full,2)"
   ]
  },
  {
   "cell_type": "code",
   "execution_count": 3,
   "metadata": {},
   "outputs": [
    {
     "name": "stdout",
     "output_type": "stream",
     "text": [
      "0.66\n",
      "0.59\n"
     ]
    }
   ],
   "source": [
    "print(round(dec3D/full,2))\n",
    "print(round(dec4D/full,2))"
   ]
  },
  {
   "cell_type": "code",
   "execution_count": 4,
   "metadata": {},
   "outputs": [
    {
     "name": "stdout",
     "output_type": "stream",
     "text": [
      "1470\n",
      "102018\n",
      "38220\n",
      "14455\n"
     ]
    }
   ],
   "source": [
    "#flop counting conv4\n",
    "\n",
    "def flopscnn(s,insc,outsc,k):\n",
    "    return k*k*s*s*insc*outsc\n",
    "\n",
    "def flopscnn3d(s,insc,outsc,k):\n",
    "    return (insc+k+k)*outsc*s*s\n",
    "\n",
    "def flopscnn4d(s,insc,outsc,k):\n",
    "    return (insc+k+k+outsc)*s*s\n",
    "\n",
    "def flopslin(ins,outs):\n",
    "    return ins*outs\n",
    "\n",
    "def flopsnetwork(channels,kernels,sizes,lin,floptype):\n",
    "    m = 0\n",
    "    for i in range(len(sizes)):\n",
    "        m += floptype(sizes[i],channels[i],channels[i+1],kernels[i])\n",
    "        #print(floptype(sizes[i],channels[i],channels[i+1],kernels[i]))\n",
    "    m += flopslin(lin[0],lin[1])\n",
    "    return m\n",
    "\n",
    "print(flopslin(147,10))\n",
    "ff = flopsnetwork([1,3,6,12,3],[3,3,3,3],[28,14,7,7],[147,10],flopscnn)\n",
    "print(ff)\n",
    "f3 = flopsnetwork([1,3,6,12,3],[3,3,3,3],[28,14,7,7],[147,10],flopscnn3d)\n",
    "print(f3)\n",
    "f4 = flopsnetwork([1,3,6,12,3],[3,3,3,3],[28,14,7,7],[147,10],flopscnn4d)\n",
    "print(f4)"
   ]
  },
  {
   "cell_type": "code",
   "execution_count": 5,
   "metadata": {},
   "outputs": [
    {
     "name": "stdout",
     "output_type": "stream",
     "text": [
      "0.37\n",
      "0.14\n"
     ]
    }
   ],
   "source": [
    "print(round(f3/ff,2))\n",
    "print(round(f4/ff,2))"
   ]
  },
  {
   "cell_type": "markdown",
   "metadata": {},
   "source": [
    "## MNIST Conv500"
   ]
  },
  {
   "cell_type": "code",
   "execution_count": 6,
   "metadata": {
    "colab": {
     "base_uri": "https://localhost:8080/"
    },
    "id": "VbA8iGKZ8kYA",
    "outputId": "50c155d7-e2bc-4ddb-e88e-da56b10cb2b1"
   },
   "outputs": [
    {
     "name": "stdout",
     "output_type": "stream",
     "text": [
      "640\n",
      "For MNIST CNN500, which has 494496 total parameters, of which 0.1294247071766 % are fully connected parameters.\n",
      "3D decomposed network has 21344 parameters. That is 4.316313984339611 % of total, which has 2.998500749625187 % fully connected parameters.\n",
      "4D decomposed network has 1185 parameters. That is 0.23963793438167347 % of total, which has 54.0084388185654 % fully connected parameters.\n"
     ]
    }
   ],
   "source": [
    "lin = 10*64\n",
    "print(lin)\n",
    "full = (10*64)+(3*3*1*32)+(3*3*32*64)+(3*3*64*128)+(7*7*128*64)\n",
    "\n",
    "print(\"For MNIST CNN500, which has \" +str(full)+ \" total parameters, of which \" + str(100*(10*64)/full) + \" % are fully connected parameters.\")\n",
    "dec3D = (10*64)+((3+3+1)*32+(3+3+32)*64+(3+3+64)*128+(7+7+128)*64)\n",
    "print(\"3D decomposed network has \" + str(dec3D) + \" parameters. That is \" + str(100*dec3D/full) + \" % of total, which has \" + str(100*(10*64)/dec3D) + \" % fully connected parameters.\")\n",
    "''\n",
    "dec4D = (10*64)+(3+3+1+32)+(3+3+32+64)+(3+3+64+128)+(7+7+128+64)\n",
    "print(\"4D decomposed network has \" + str(dec4D) + \" parameters. That is \" + str(100*dec4D/full) + \" % of total, which has \" + str(100*(10*64)/dec4D) + \" % fully connected parameters.\")"
   ]
  },
  {
   "cell_type": "code",
   "execution_count": 7,
   "metadata": {},
   "outputs": [
    {
     "data": {
      "text/plain": [
       "0.001"
      ]
     },
     "execution_count": 7,
     "metadata": {},
     "output_type": "execute_result"
    }
   ],
   "source": [
    "round(lin/full,3)"
   ]
  },
  {
   "cell_type": "code",
   "execution_count": 8,
   "metadata": {},
   "outputs": [
    {
     "name": "stdout",
     "output_type": "stream",
     "text": [
      "0.04\n",
      "0.002\n"
     ]
    }
   ],
   "source": [
    "print(round(dec3D/full,2))\n",
    "print(round(dec4D/full,3))"
   ]
  },
  {
   "cell_type": "code",
   "execution_count": 9,
   "metadata": {},
   "outputs": [
    {
     "name": "stdout",
     "output_type": "stream",
     "text": [
      "7853184\n",
      "1101056\n",
      "61116\n",
      "\n",
      "\n",
      "0.14\n",
      "0.01\n"
     ]
    }
   ],
   "source": [
    "#channels,kernels,sizes,lin,floptype\n",
    "channels = [1,32,64,128,64]\n",
    "kernels = [3,3,3,7]\n",
    "sizes = [28,14,7,1]\n",
    "lin = [64,10]\n",
    "ff = flopsnetwork(channels, kernels, sizes, lin, flopscnn)\n",
    "print(ff)\n",
    "f3 = flopsnetwork(channels, kernels, sizes, lin, flopscnn3d)\n",
    "print(f3)\n",
    "f4 = flopsnetwork(channels, kernels, sizes, lin, flopscnn4d)\n",
    "print(f4)\n",
    "print(\"\\n\")\n",
    "print(round(f3/ff,2))\n",
    "print(round(f4/ff,2))"
   ]
  },
  {
   "cell_type": "markdown",
   "metadata": {},
   "source": [
    "## rank 8"
   ]
  },
  {
   "cell_type": "code",
   "execution_count": 10,
   "metadata": {},
   "outputs": [],
   "source": [
    "def flopsnetwork_rank(inchannels,outchannels,kernels,sizes,lin,rank,floptype):\n",
    "    m = 0\n",
    "    for i in range(len(sizes)):\n",
    "        m += floptype(sizes[i],rank*inchannels[i],rank*outchannels[i],rank*kernels[i])\n",
    "        #print(floptype(sizes[i],channels[i],channels[i+1],kernels[i]))\n",
    "    m += flopslin(lin[0],lin[1])\n",
    "    return m"
   ]
  },
  {
   "cell_type": "code",
   "execution_count": 11,
   "metadata": {},
   "outputs": [
    {
     "name": "stdout",
     "output_type": "stream",
     "text": [
      "4D decomposed network has 5016 parameters. That is 1.0143661424966026 % of total, which has 12.759170653907496 % fully connected parameters.\n",
      "0.01\n",
      "496992\n",
      "0.06\n"
     ]
    }
   ],
   "source": [
    "dec4D = (10*64)+8*((3+3+3+32)+(32+3+3+64)+(64+3+3+128)+(128+7+7+64))\n",
    "print(\"4D decomposed network has \" + str(dec4D) + \" parameters. That is \" + str(100*dec4D/full) + \" % of total, which has \" + str(100*(10*64)/dec4D) + \" % fully connected parameters.\")\n",
    "print(round(dec4D/full,2))\n",
    "#inc+r*(k+k+outc)\n",
    "inchannels = [3,32,64,128]\n",
    "outchannels = [32,64,128,64]\n",
    "kernels = [3,3,3,7]\n",
    "sizes = [28,14,7,1]\n",
    "lin = [64,10]\n",
    "rank = 8\n",
    "\n",
    "f48 = flopsnetwork_rank(inchannels, outchannels, kernels, sizes, lin, rank, flopscnn4d)\n",
    "print(f48)\n",
    "print(round(f48/ff,2))"
   ]
  },
  {
   "cell_type": "markdown",
   "metadata": {},
   "source": [
    "## tucker rank 1"
   ]
  },
  {
   "cell_type": "code",
   "execution_count": 12,
   "metadata": {},
   "outputs": [],
   "source": [
    "def flopscnntucker(s,insc,outsc,k,r):\n",
    "    return (insc*r[0]+r[0]*k*k*r[1]+outsc*r[1])*s*s"
   ]
  },
  {
   "cell_type": "code",
   "execution_count": 13,
   "metadata": {},
   "outputs": [],
   "source": [
    "def flopsnetwork_tucker_rank(inchannels,outchannels,kernels,sizes,lin,rank,floptype):\n",
    "    m = 0\n",
    "    for i in range(len(sizes)):\n",
    "        m += floptype(sizes[i],inchannels[i],outchannels[i],kernels[i],r)\n",
    "        #print(floptype(sizes[i],channels[i],channels[i+1],kernels[i]))\n",
    "    m += flopslin(lin[0],lin[1])\n",
    "    return m"
   ]
  },
  {
   "cell_type": "code",
   "execution_count": 15,
   "metadata": {},
   "outputs": [
    {
     "name": "stdout",
     "output_type": "stream",
     "text": [
      "4D decomposed network has 1231 parameters. That is 0.2489403352099916 % of total, which has 51.99025182778229 % fully connected parameters.\n",
      "0.002\n",
      "65806\n",
      "0.01\n"
     ]
    }
   ],
   "source": [
    "r = [1,1]\n",
    "#inc*r1*1+r1*k*r2*k+r2*outc*1\n",
    "dec4D = (3*r[0]+r[0]*3*3*r[1]+r[1]*32) + (32*r[0]+r[0]*3*3*r[1]+r[1]*64) + (64*r[0]+r[0]*3*3*r[1]+r[1]*128)+ (128*r[0]+r[0]*7*7*r[1]+r[1]*64)+ (64*10)\n",
    "print(\"4D decomposed network has \" + str(dec4D) + \" parameters. That is \" + str(100*dec4D/full) + \" % of total, which has \" + str(100*(10*64)/dec4D) + \" % fully connected parameters.\")\n",
    "print(round(dec4D/full,3))\n",
    "\n",
    "inchannels = [3,32,64,128]\n",
    "outchannels = [32,64,128,64]\n",
    "kernels = [3,3,3,7]\n",
    "sizes = [28,14,7,1]\n",
    "lin = [64,10]\n",
    "rank = [1,1]\n",
    "        \n",
    "ft1 = flopsnetwork_tucker_rank(inchannels,outchannels,kernels,sizes,lin,rank,flopscnntucker)\n",
    "print(ft1)\n",
    "print(round(ft1/ff,2))"
   ]
  },
  {
   "cell_type": "markdown",
   "metadata": {},
   "source": [
    "## tucker rank 8"
   ]
  },
  {
   "cell_type": "code",
   "execution_count": 16,
   "metadata": {},
   "outputs": [
    {
     "name": "stdout",
     "output_type": "stream",
     "text": [
      "4D decomposed network has 9624 parameters. That is 1.9462240341681227 % of total, which has 6.6500415627597675 % fully connected parameters.\n",
      "0.02\n",
      "1043328\n",
      "0.13\n"
     ]
    }
   ],
   "source": [
    "r = [8,8]\n",
    "dec4D = (3*r[0]+r[0]*3*3*r[1]+r[1]*32) + (32*r[0]+r[0]*3*3*r[1]+r[1]*64) + (64*r[0]+r[0]*3*3*r[1]+r[1]*128)+ (128*r[0]+r[0]*7*7*r[1]+r[1]*64)+ (64*10)\n",
    "print(\"4D decomposed network has \" + str(dec4D) + \" parameters. That is \" + str(100*dec4D/full) + \" % of total, which has \" + str(100*(10*64)/dec4D) + \" % fully connected parameters.\")\n",
    "print(round(dec4D/full,2))\n",
    "\n",
    "inchannels = [3,32,64,128]\n",
    "outchannels = [32,64,128,64]\n",
    "kernels = [3,3,3,7]\n",
    "sizes = [28,14,7,1]\n",
    "lin = [64,10]\n",
    "rank = [8,8]\n",
    "        \n",
    "ft8 = flopsnetwork_tucker_rank(inchannels,outchannels,kernels,sizes,lin,rank,flopscnntucker)\n",
    "print(ft8)\n",
    "print(round(ft8/ff,2))"
   ]
  },
  {
   "cell_type": "code",
   "execution_count": null,
   "metadata": {},
   "outputs": [],
   "source": []
  },
  {
   "cell_type": "markdown",
   "metadata": {},
   "source": [
    "# CIFAR-10"
   ]
  },
  {
   "cell_type": "markdown",
   "metadata": {},
   "source": [
    "## conv500 rank 1"
   ]
  },
  {
   "cell_type": "code",
   "execution_count": 246,
   "metadata": {
    "colab": {
     "base_uri": "https://localhost:8080/"
    },
    "id": "AKnzu2lxoXeh",
    "outputId": "90e82ee4-0c1b-447d-d435-65c14874daef",
    "scrolled": true
   },
   "outputs": [
    {
     "name": "stdout",
     "output_type": "stream",
     "text": [
      "640\n",
      "For CIFAR10 CNN500, which has 224736 total parameters, of which 0.28477858465043426 % are fully connected parameters.\n",
      "3D decomposed network has 21024 parameters. That is 9.354976505766766 % of total, which has 3.0441400304414 % fully connected parameters.\n",
      "4D decomposed network has 1181 parameters. That is 0.5255054819877545 % of total, which has 54.191363251481796 % fully connected parameters.\n"
     ]
    }
   ],
   "source": [
    "lin = 10*64\n",
    "print(lin)\n",
    "full = (10*64)+(3*3*3*32)+(3*3*32*64)+(3*3*64*128)+(4*4*128*64)\n",
    "print(\"For CIFAR10 CNN500, which has \" +str(full)+ \" total parameters, of which \" + str(100*(10*64)/full) + \" % are fully connected parameters.\")\n",
    "\n",
    "dec3D = (10*64)+((3+3+3)*32+(3+3+32)*64+(3+3+64)*128+(4+4+128)*64)\n",
    "print(\"3D decomposed network has \" + str(dec3D) + \" parameters. That is \" + str(100*dec3D/full) + \" % of total, which has \" + str(100*(10*64)/dec3D) + \" % fully connected parameters.\")\n",
    "\n",
    "dec4D = (10*64)+(3+3+3+32)+(3+3+32+64)+(3+3+64+128)+(4+4+128+64)\n",
    "print(\"4D decomposed network has \" + str(dec4D) + \" parameters. That is \" + str(100*dec4D/full) + \" % of total, which has \" + str(100*(10*64)/dec4D) + \" % fully connected parameters.\")"
   ]
  },
  {
   "cell_type": "code",
   "execution_count": 247,
   "metadata": {},
   "outputs": [
    {
     "data": {
      "text/plain": [
       "0.003"
      ]
     },
     "execution_count": 247,
     "metadata": {},
     "output_type": "execute_result"
    }
   ],
   "source": [
    "round(lin/full,3)"
   ]
  },
  {
   "cell_type": "code",
   "execution_count": 248,
   "metadata": {},
   "outputs": [
    {
     "name": "stdout",
     "output_type": "stream",
     "text": [
      "0.09\n",
      "0.01\n"
     ]
    }
   ],
   "source": [
    "print(round(dec3D/full,2))\n",
    "print(round(dec4D/full,2))"
   ]
  },
  {
   "cell_type": "code",
   "execution_count": 249,
   "metadata": {},
   "outputs": [
    {
     "name": "stdout",
     "output_type": "stream",
     "text": [
      "12419712\n",
      "1630848\n",
      "84608\n",
      "\n",
      "\n",
      "0.13\n",
      "0.01\n"
     ]
    }
   ],
   "source": [
    "#channels,kernels,sizes,lin,floptype\n",
    "channels = [3,32,64,128,64]\n",
    "kernels = [3,3,3,4]\n",
    "sizes = [32,16,8,4]\n",
    "lin = [64,10]\n",
    "ff = flopsnetwork(channels, kernels, sizes, lin, flopscnn)\n",
    "print(ff)\n",
    "f3 = flopsnetwork(channels, kernels, sizes, lin, flopscnn3d)\n",
    "print(f3)\n",
    "f4 = flopsnetwork(channels, kernels, sizes, lin, flopscnn4d)\n",
    "print(f4)\n",
    "print(\"\\n\")\n",
    "print(round(f3/ff,2))\n",
    "print(round(f4/ff,2))"
   ]
  },
  {
   "cell_type": "markdown",
   "metadata": {},
   "source": [
    "## conv500 rank 8"
   ]
  },
  {
   "cell_type": "code",
   "execution_count": 250,
   "metadata": {},
   "outputs": [],
   "source": [
    "\n",
    "def flopsnetwork_rank(inchannels,outchannels,kernels,sizes,lin,rank,floptype):\n",
    "    m = 0\n",
    "    for i in range(len(sizes)):\n",
    "        m += floptype(sizes[i],rank*inchannels[i],rank*outchannels[i],rank*kernels[i])\n",
    "        #print(floptype(sizes[i],channels[i],channels[i+1],kernels[i]))\n",
    "    m += flopslin(lin[0],lin[1])\n",
    "    return m"
   ]
  },
  {
   "cell_type": "code",
   "execution_count": 251,
   "metadata": {},
   "outputs": [
    {
     "name": "stdout",
     "output_type": "stream",
     "text": [
      "4D decomposed network has 4968 parameters. That is 2.2105937633489963 % of total, which has 12.882447665056361 % fully connected parameters.\n",
      "0.02\n",
      "672384\n",
      "0.05\n"
     ]
    }
   ],
   "source": [
    "dec4D = (10*64)+8*((3+3+3+32)+(32+3+3+64)+(64+3+3+128)+(128+4+4+64))\n",
    "print(\"4D decomposed network has \" + str(dec4D) + \" parameters. That is \" + str(100*dec4D/full) + \" % of total, which has \" + str(100*(10*64)/dec4D) + \" % fully connected parameters.\")\n",
    "print(round(dec4D/full,2))\n",
    "#inc+r*(k+k+outc)\n",
    "inchannels = [3,32,64,128]\n",
    "outchannels = [32,64,128,64]\n",
    "kernels = [3,3,3,4]\n",
    "sizes = [32,16,8,4]\n",
    "lin = [64,10]\n",
    "rank = 8\n",
    "\n",
    "f48 = flopsnetwork_rank(inchannels, outchannels, kernels, sizes, lin, rank, flopscnn4d)\n",
    "print(f48)\n",
    "print(round(f48/ff,2))"
   ]
  },
  {
   "cell_type": "markdown",
   "metadata": {},
   "source": [
    "## conv500 Tucker rank 1"
   ]
  },
  {
   "cell_type": "code",
   "execution_count": 252,
   "metadata": {},
   "outputs": [],
   "source": [
    "def flopscnntucker(s,insc,outsc,k,r):\n",
    "    return (insc*r[0]+r[0]*k*k*r[1]+outsc*r[1])*s*s"
   ]
  },
  {
   "cell_type": "code",
   "execution_count": 253,
   "metadata": {},
   "outputs": [],
   "source": [
    "def flopsnetwork_tucker_rank(inchannels,outchannels,kernels,sizes,lin,rank,floptype):\n",
    "    m = 0\n",
    "    for i in range(len(sizes)):\n",
    "        m += floptype(sizes[i],inchannels[i],outchannels[i],kernels[i],r)\n",
    "        #print(floptype(sizes[i],channels[i],channels[i+1],kernels[i]))\n",
    "    m += flopslin(lin[0],lin[1])\n",
    "    return m"
   ]
  },
  {
   "cell_type": "code",
   "execution_count": 254,
   "metadata": {
    "colab": {
     "base_uri": "https://localhost:8080/"
    },
    "id": "ujT8ElsAroFj",
    "outputId": "dadd485e-0d00-4aa2-ed1e-d19ce60e9143"
   },
   "outputs": [
    {
     "name": "stdout",
     "output_type": "stream",
     "text": [
      "4D decomposed network has 1198 parameters. That is 0.5330699131425317 % of total, which has 53.42237061769616 % fully connected parameters.\n",
      "0.01\n",
      "88768\n",
      "0.01\n"
     ]
    }
   ],
   "source": [
    "r = [1,1]\n",
    "#inc*r1*1+r1*k*r2*k+r2*outc*1\n",
    "dec4D = (3*r[0]+r[0]*3*3*r[1]+r[1]*32) + (32*r[0]+r[0]*3*3*r[1]+r[1]*64) + (64*r[0]+r[0]*3*3*r[1]+r[1]*128)+ (128*r[0]+r[0]*4*4*r[1]+r[1]*64)+ (64*10)\n",
    "print(\"4D decomposed network has \" + str(dec4D) + \" parameters. That is \" + str(100*dec4D/full) + \" % of total, which has \" + str(100*(10*64)/dec4D) + \" % fully connected parameters.\")\n",
    "print(round(dec4D/full,2))\n",
    "\n",
    "inchannels = [3,32,64,128]\n",
    "outchannels = [32,64,128,64]\n",
    "kernels = [3,3,3,4]\n",
    "sizes = [32,16,8,4]\n",
    "lin = [64,10]\n",
    "rank = [1,1]\n",
    "        \n",
    "ft1 = flopsnetwork_tucker_rank(inchannels,outchannels,kernels,sizes,lin,rank,flopscnntucker)\n",
    "print(ft1)\n",
    "print(round(ft1/ff,2))"
   ]
  },
  {
   "cell_type": "markdown",
   "metadata": {},
   "source": [
    "## conv500 Tucker rank 8"
   ]
  },
  {
   "cell_type": "code",
   "execution_count": 255,
   "metadata": {
    "id": "wORCvjX8uHR4"
   },
   "outputs": [
    {
     "name": "stdout",
     "output_type": "stream",
     "text": [
      "4D decomposed network has 7512 parameters. That is 3.3425886373344724 % of total, which has 8.519701810436635 % fully connected parameters.\n",
      "0.03\n",
      "1397376\n",
      "0.11\n"
     ]
    }
   ],
   "source": [
    "r = [8,8]\n",
    "dec4D = (3*r[0]+r[0]*3*3*r[1]+r[1]*32) + (32*r[0]+r[0]*3*3*r[1]+r[1]*64) + (64*r[0]+r[0]*3*3*r[1]+r[1]*128)+ (128*r[0]+r[0]*4*4*r[1]+r[1]*64)+ (64*10)\n",
    "print(\"4D decomposed network has \" + str(dec4D) + \" parameters. That is \" + str(100*dec4D/full) + \" % of total, which has \" + str(100*(10*64)/dec4D) + \" % fully connected parameters.\")\n",
    "print(round(dec4D/full,2))\n",
    "\n",
    "inchannels = [3,32,64,128]\n",
    "outchannels = [32,64,128,64]\n",
    "kernels = [3,3,3,4]\n",
    "sizes = [32,16,8,4]\n",
    "lin = [64,10]\n",
    "rank = [8,8]\n",
    "        \n",
    "ft8 = flopsnetwork_tucker_rank(inchannels,outchannels,kernels,sizes,lin,rank,flopscnntucker)\n",
    "print(ft8)\n",
    "print(round(ft8/ff,2))"
   ]
  },
  {
   "cell_type": "markdown",
   "metadata": {},
   "source": [
    "# papernet2"
   ]
  },
  {
   "cell_type": "markdown",
   "metadata": {},
   "source": [
    "## rank 1"
   ]
  },
  {
   "cell_type": "code",
   "execution_count": 256,
   "metadata": {},
   "outputs": [
    {
     "name": "stdout",
     "output_type": "stream",
     "text": [
      "4723712\n",
      "For CIFAR10 papernet2, which has 5953472 total parameters, of which 79.34381819550003 % are fully connected parameters.\n",
      "3D decomposed network has 4865920 parameters. That is 81.7324747643056 % of total, which has 97.07746941996581 % are fully connected parameters.\n",
      "0.82\n",
      "4D decomposed network has 4725351 parameters. That is 79.37134834933296 % of total, which has 99.96531474593104 % are fully connected parameters.\n",
      "0.79\n"
     ]
    }
   ],
   "source": [
    "conv = (3*3*3*64)+(3*3*64*64)+(3*3*64*144)+(3*3*144*144)+(3*3*144*256)+(3*3*256*256)\n",
    "lin = (4*4*256*1024)+(1024*512)+(512*10)\n",
    "print(lin)\n",
    "full = conv+lin\n",
    "print(\"For CIFAR10 papernet2, which has \" +str(full)+ \" total parameters, of which \" + str(100*(lin)/full) + \" % are fully connected parameters.\")\n",
    "conv = (3+3+3)*64+(3+3+64)*64+(3+3+64)*144+(3+3+144)*144+(3+3+144)*256+(3+3+256)*256\n",
    "dec3D = conv+lin\n",
    "print(\"3D decomposed network has \" + str(dec3D) + \" parameters. That is \" + str(100*dec3D/full) + \" % of total, which has \" + str(100*(lin)/dec3D) + \" % are fully connected parameters.\")\n",
    "print(round(dec3D/full,2))\n",
    "conv = (3+3+3+64)+(3+3+64+64)+(3+3+64+144)+(3+3+144+144)+(3+3+144+256)+(3+3+256+256)\n",
    "dec4D = conv+lin\n",
    "print(\"4D decomposed network has \" + str(dec4D) + \" parameters. That is \" + str(100*dec4D/full) + \" % of total, which has \" + str(100*(lin)/dec4D) + \" % are fully connected parameters.\")\n",
    "print(round(dec4D/full,2))"
   ]
  },
  {
   "cell_type": "code",
   "execution_count": 257,
   "metadata": {},
   "outputs": [
    {
     "data": {
      "text/plain": [
       "0.79"
      ]
     },
     "execution_count": 257,
     "metadata": {},
     "output_type": "execute_result"
    }
   ],
   "source": [
    "round(lin/full,2)"
   ]
  },
  {
   "cell_type": "code",
   "execution_count": 258,
   "metadata": {},
   "outputs": [],
   "source": [
    "#flop counting conv4\n",
    "\n",
    "def flopscnn(s,insc,outsc,k):\n",
    "    return k*k*s*s*insc*outsc\n",
    "\n",
    "def flopscnn3d(s,insc,outsc,k):\n",
    "    return (insc+k+k)*outsc*s*s\n",
    "\n",
    "def flopscnn4d(s,insc,outsc,k):\n",
    "    return (insc+k+k+outsc)*s*s\n",
    "\n",
    "def flopslin(ins,outs):\n",
    "    return ins*outs\n",
    "\n",
    "def flopsnetwork(inchannels, outchannels,kernels,sizes,lin,floptype):\n",
    "    m = 0\n",
    "    for i in range(len(sizes)):\n",
    "        m += floptype(sizes[i],inchannels[i],outchannels[i],kernels[i])\n",
    "        #print(floptype(sizes[i],channels[i],channels[i+1],kernels[i]))\n",
    "    for l in lin:\n",
    "        m += flopslin(l[0],l[1])\n",
    "    return m"
   ]
  },
  {
   "cell_type": "code",
   "execution_count": 259,
   "metadata": {},
   "outputs": [
    {
     "name": "stdout",
     "output_type": "stream",
     "text": [
      "172233728\n",
      "24761344\n",
      "5124864\n",
      "0.14\n",
      "0.03\n"
     ]
    }
   ],
   "source": [
    "#channels,kernels,sizes,lin,floptype\n",
    "inchannels = [3,64,64,144,144,256]\n",
    "outchannels = [64,64,144,144,256,256]\n",
    "kernels = [3,3,3,3,3,3]\n",
    "sizes = [32,32,16,16,8,8]\n",
    "lin = [[4*4*256,1024],[1024,512],[512,10]]\n",
    "ff = flopsnetwork(inchannels, outchannels, kernels, sizes, lin, flopscnn)\n",
    "print(ff)\n",
    "f3 = flopsnetwork(inchannels, outchannels, kernels, sizes, lin, flopscnn3d)\n",
    "print(f3)\n",
    "f4 = flopsnetwork(inchannels, outchannels, kernels, sizes, lin, flopscnn4d)\n",
    "print(f4)\n",
    "print(round(f3/ff,2))\n",
    "print(round(f4/ff,2))"
   ]
  },
  {
   "cell_type": "markdown",
   "metadata": {},
   "source": [
    "## rank 8"
   ]
  },
  {
   "cell_type": "code",
   "execution_count": 260,
   "metadata": {},
   "outputs": [],
   "source": [
    "#flop counting conv4\n",
    "\n",
    "def flopsnetwork_rank(inchannels,outchannels,kernels,sizes,lin,rank,floptype):\n",
    "    m = 0\n",
    "    for i in range(len(sizes)):\n",
    "        m += floptype(sizes[i],rank*inchannels[i],rank*outchannels[i],rank*kernels[i])\n",
    "        #print(floptype(sizes[i],channels[i],channels[i+1],kernels[i]))\n",
    "    for l in lin:\n",
    "        m += flopslin(l[0],l[1])\n",
    "    return m"
   ]
  },
  {
   "cell_type": "code",
   "execution_count": 261,
   "metadata": {},
   "outputs": [
    {
     "name": "stdout",
     "output_type": "stream",
     "text": [
      "4D decomposed network has 4736824 parameters. That is 79.56405942616342 % of total, which has 99.72319005308198 % fully connected parameters.\n",
      "0.8\n",
      "7932928\n",
      "0.05\n"
     ]
    }
   ],
   "source": [
    "conv = 8*((3+3+3+64)+(64+3+3+64)+(64+3+3+144)+(144+3+3+144)+(144+3+3+256)+(256+3+3+256))\n",
    "lin = (4*4*256*1024)+(1024*512)+(512*10)\n",
    "dec4D = conv+lin\n",
    "print(\"4D decomposed network has \" + str(dec4D) + \" parameters. That is \" + str(100*dec4D/full) + \" % of total, which has \" + str(100*lin/dec4D) + \" % fully connected parameters.\")\n",
    "print(round(dec4D/full,2))\n",
    "\n",
    "inchannels = [3,64,64,144,144,256]\n",
    "outchannels = [64,64,144,144,256,256]\n",
    "kernels = [3,3,3,3,3,3]\n",
    "sizes = [32,32,16,16,8,8]\n",
    "lin = [[4*4*256,1024],[1024,512],[512,10]]\n",
    "rank = 8\n",
    "\n",
    "f48 = flopsnetwork_rank(inchannels, outchannels, kernels, sizes, lin, rank, flopscnn4d)\n",
    "print(f48)\n",
    "print(round(f48/ff,2))"
   ]
  },
  {
   "cell_type": "markdown",
   "metadata": {},
   "source": [
    "## tucker2 rank 1 "
   ]
  },
  {
   "cell_type": "code",
   "execution_count": 262,
   "metadata": {},
   "outputs": [],
   "source": [
    "def flopscnntucker(s,insc,outsc,k,r):\n",
    "    return (insc*r[0]+r[0]*k*k*r[1]+outsc*r[1])*s*s\n",
    "\n",
    "def flopsnetwork_tucker_rank(inchannels,outchannels,kernels,sizes,lin,rank,floptype):\n",
    "    m = 0\n",
    "    for i in range(len(sizes)):\n",
    "        m += floptype(sizes[i],inchannels[i],outchannels[i],kernels[i],r)\n",
    "        #print(floptype(sizes[i],channels[i],channels[i+1],kernels[i]))\n",
    "    for l in lin:\n",
    "        m += flopslin(l[0],l[1])\n",
    "    return m"
   ]
  },
  {
   "cell_type": "code",
   "execution_count": 263,
   "metadata": {},
   "outputs": [
    {
     "name": "stdout",
     "output_type": "stream",
     "text": [
      "4D decomposed network has 4725369 parameters. That is 79.3716506939144 % of total, which has 99.96493395542231 % fully connected parameters.\n",
      "0.79\n",
      "5132928\n",
      "0.03\n"
     ]
    }
   ],
   "source": [
    "r = [1,1]\n",
    "#inc*r1*1+r1*k*r2*k+r2*outc*1\n",
    "conv = (3*r[0]+r[0]*3*3*r[1]+r[1]*64) + (64*r[0]+r[0]*3*3*r[1]+r[1]*64) + (64*r[0]+r[0]*3*3*r[1]+r[1]*144)+ (144*r[0]+r[0]*3*3*r[1]+r[1]*144) + (144*r[0]+r[0]*3*3*r[1]+r[1]*256) + (256*r[0]+r[0]*3*3*r[1]+r[1]*256)\n",
    "lin = (4*4*256*1024)+(1024*512)+(512*10)\n",
    "dec4D = conv+lin\n",
    "print(\"4D decomposed network has \" + str(dec4D) + \" parameters. That is \" + str(100*dec4D/full) + \" % of total, which has \" + str(100*lin/dec4D) + \" % fully connected parameters.\")\n",
    "\n",
    "print(round(dec4D/full,2))\n",
    "\n",
    "inchannels = [3,64,64,144,144,256]\n",
    "outchannels = [64,64,144,144,256,256]\n",
    "kernels = [3,3,3,3,3,3]\n",
    "sizes = [32,32,16,16,8,8]\n",
    "lin = [[4*4*256,1024],[1024,512],[512,10]]\n",
    "rank = [1,1]\n",
    "        \n",
    "ft1 = flopsnetwork_tucker_rank(inchannels,outchannels,kernels,sizes,lin,rank,flopscnntucker)\n",
    "print(ft1)\n",
    "print(round(ft1/ff,2))"
   ]
  },
  {
   "cell_type": "markdown",
   "metadata": {},
   "source": [
    "## rank 8"
   ]
  },
  {
   "cell_type": "code",
   "execution_count": 264,
   "metadata": {},
   "outputs": [
    {
     "name": "stdout",
     "output_type": "stream",
     "text": [
      "4D decomposed network has 4739992 parameters. That is 79.6172720724982 % of total, which has 99.65653950470802 % fully connected parameters.\n",
      "0.8\n",
      "9352192\n",
      "0.05\n"
     ]
    }
   ],
   "source": [
    "r = [8,8]\n",
    "#inc*r1*1+r1*k*r2*k+r2*outc*1\n",
    "conv = (3*r[0]+r[0]*3*3*r[1]+r[1]*64) + (64*r[0]+r[0]*3*3*r[1]+r[1]*64) + (64*r[0]+r[0]*3*3*r[1]+r[1]*144)+ (144*r[0]+r[0]*3*3*r[1]+r[1]*144) + (144*r[0]+r[0]*3*3*r[1]+r[1]*256) + (256*r[0]+r[0]*3*3*r[1]+r[1]*256)\n",
    "lin = (4*4*256*1024)+(1024*512)+(512*10)\n",
    "dec4D = conv+lin\n",
    "print(\"4D decomposed network has \" + str(dec4D) + \" parameters. That is \" + str(100*dec4D/full) + \" % of total, which has \" + str(100*lin/dec4D) + \" % fully connected parameters.\")\n",
    "print(round(dec4D/full,2))\n",
    "\n",
    "inchannels = [3,64,64,144,144,256]\n",
    "outchannels = [64,64,144,144,256,256]\n",
    "kernels = [3,3,3,3,3,3]\n",
    "sizes = [32,32,16,16,8,8]\n",
    "lin = [[4*4*256,1024],[1024,512],[512,10]]\n",
    "rank = [8,8]\n",
    "        \n",
    "ft8 = flopsnetwork_tucker_rank(inchannels,outchannels,kernels,sizes,lin,rank,flopscnntucker)\n",
    "print(ft8)\n",
    "print(round(ft8/ff,2))"
   ]
  },
  {
   "cell_type": "markdown",
   "metadata": {},
   "source": [
    "# Papernet4"
   ]
  },
  {
   "cell_type": "markdown",
   "metadata": {},
   "source": [
    "## Rank 1"
   ]
  },
  {
   "cell_type": "code",
   "execution_count": 282,
   "metadata": {},
   "outputs": [
    {
     "name": "stdout",
     "output_type": "stream",
     "text": [
      "For CIFAR10 papernet2, which has 15851120 total parameters, of which 41.58373666971167 % are fully connected parameters.\n",
      "3D decomposed network has 7639056 parameters. That is 48.19253150566017 % of total, which has 86.28668254297389 % are fully connected parameters.\n",
      "0.48\n",
      "4D decomposed network has 6597313 parameters. That is 41.620484861637536 % of total, which has 99.91170647807675 % are fully connected parameters.\n",
      "0.42\n"
     ]
    }
   ],
   "source": [
    "conv = (3*3*3*64)+(3*3*64*64)+(3*3*64*144)+(3*3*144*144)+(3*3*144*256)+(3*3*256*256)+(3*3*256*256)+(3*3*256*484)+(3*3*484*484)+(3*3*484*484)+(3*3*484*484)\n",
    "lin = (4*484*2048)+(2048*1024)+(1024*512)+(512*10)\n",
    "full = conv+lin\n",
    "print(\"For CIFAR10 papernet2, which has \" +str(full)+ \" total parameters, of which \" + str(100*(lin)/full) + \" % are fully connected parameters.\")\n",
    "conv3D = (3+3+3)*64+(3+3+64)*64+(3+3+64)*144+(3+3+144)*144+(3+3+144)*256+(3+3+256)*256+(3+3+256)*256+(3+3+256)*484+(3+3+484)*484+(3+3+484)*484+(3+3+484)*484\n",
    "dec3D = conv3D+lin\n",
    "print(\"3D decomposed network has \" + str(dec3D) + \" parameters. That is \" + str(100*dec3D/full) + \" % of total, which has \" + str(100*(lin)/dec3D) + \" % are fully connected parameters.\")\n",
    "print(round(dec3D/full,2))\n",
    "#print(round(conv3D/conv,2))\n",
    "conv = (3+3+3+64)+(3+3+64+64)+(3+3+64+144)+(3+3+144+144)+(3+3+144+256)+(3+3+256+256)+(3+3+256+256)+(3+3+256+484)+(3+3+484+484)+(3+3+484+484)+(3+3+484+484)\n",
    "dec4D = conv+lin\n",
    "print(\"4D decomposed network has \" + str(dec4D) + \" parameters. That is \" + str(100*dec4D/full) + \" % of total, which has \" + str(100*(lin)/dec4D) + \" % are fully connected parameters.\")\n",
    "print(round(dec4D/full,2))"
   ]
  },
  {
   "cell_type": "code",
   "execution_count": 277,
   "metadata": {},
   "outputs": [
    {
     "data": {
      "text/plain": [
       "0.42"
      ]
     },
     "execution_count": 277,
     "metadata": {},
     "output_type": "execute_result"
    }
   ],
   "source": [
    "round(lin/full,2)"
   ]
  },
  {
   "cell_type": "code",
   "execution_count": 278,
   "metadata": {},
   "outputs": [
    {
     "name": "stdout",
     "output_type": "stream",
     "text": [
      "297158144\n",
      "40539776\n",
      "7068896\n",
      "0.14\n",
      "0.02\n"
     ]
    }
   ],
   "source": [
    "#channels,kernels,sizes,lin,floptype\n",
    "inchannels = [3,64,64,144,144,256,256,256,484,484,484]\n",
    "outchannels = [64,64,144,144,256,256,256,484,484,484]\n",
    "kernels = [3,3,3,3,3,3,3,3,3,3,3]\n",
    "sizes = [32,32,16,16,8,8,8,4,4,4]\n",
    "lin = [[4*484,2048],[2048,1024],[1024,512],[512,10]]\n",
    "ff = flopsnetwork(inchannels, outchannels, kernels, sizes, lin, flopscnn)\n",
    "print(ff)\n",
    "f3 = flopsnetwork(inchannels, outchannels, kernels, sizes, lin, flopscnn3d)\n",
    "print(f3)\n",
    "f4 = flopsnetwork(inchannels, outchannels, kernels, sizes, lin, flopscnn4d)\n",
    "print(f4)\n",
    "print(round(f3/ff,2))\n",
    "print(round(f4/ff,2))"
   ]
  },
  {
   "cell_type": "markdown",
   "metadata": {},
   "source": [
    "## Rank 8"
   ]
  },
  {
   "cell_type": "code",
   "execution_count": 275,
   "metadata": {},
   "outputs": [
    {
     "name": "stdout",
     "output_type": "stream",
     "text": [
      "46600\n",
      "4D decomposed network has 6597313 parameters. That is 41.620484861637536 % of total, which has 99.91170647807675 % fully connected parameters.\n",
      "0.42\n",
      "10410752\n",
      "0.04\n",
      "40775\n",
      "40775\n"
     ]
    }
   ],
   "source": [
    "r = 8\n",
    "conv = r*((3+3+3+64)+(64+3+3+64)+(64+3+3+144)+(144+3+3+144)+(144+3+3+256)+(256+3+3+256)+(256+3+3+256)+(256+3+3+484)+(484+3+3+484)+(484+3+3+484)+(484+3+3+484))\n",
    "lin = (4*484*2048)+(2048*1024)+(1024*512)+(512*10)\n",
    "dec4D8 = conv+lin\n",
    "print(\"4D decomposed network has \" + str(dec4D) + \" parameters. That is \" + str(100*dec4D/full) + \" % of total, which has \" + str(100*lin/dec4D) + \" % fully connected parameters.\")\n",
    "#inc+r*(k+k+outc)\n",
    "print(round(dec4D/full,2))\n",
    "inchannels = [3,64,64,144,144,256,256,256,484,484,484]\n",
    "outchannels = [64,64,144,144,256,256,256,484,484,484]\n",
    "kernels = [3,3,3,3,3,3,3,3,3,3,3]\n",
    "sizes = [32,32,16,16,8,8,8,4,4,4]\n",
    "lin = [[4*484,2048],[2048,1024],[1024,512],[512,10]]\n",
    "rank = 8\n",
    "\n",
    "f48 = flopsnetwork_rank(inchannels, outchannels, kernels, sizes, lin, rank, flopscnn4d)\n",
    "print(f48)\n",
    "print(round(f48/ff,2))"
   ]
  },
  {
   "cell_type": "markdown",
   "metadata": {},
   "source": [
    "## tucker2 rank 1"
   ]
  },
  {
   "cell_type": "code",
   "execution_count": 202,
   "metadata": {},
   "outputs": [
    {
     "name": "stdout",
     "output_type": "stream",
     "text": [
      "4D decomposed network has 4729570 parameters. That is 29.83744997198936 % of total, which has 99.87614095996042 % fully connected parameters.\n",
      "0.3\n",
      "7077296\n",
      "0.02\n"
     ]
    }
   ],
   "source": [
    "r = [1,1]\n",
    "#inc*r1*1+r1*k*r2*k+r2*outc*1\n",
    "conv = (3*r[0]+r[0]*3*3*r[1]+r[1]*64) + (64*r[0]+r[0]*3*3*r[1]+r[1]*64) + (64*r[0]+r[0]*3*3*r[1]+r[1]*144)+ (144*r[0]+r[0]*3*3*r[1]+r[1]*144) + (144*r[0]+r[0]*3*3*r[1]+r[1]*256) + (256*r[0]+r[0]*3*3*r[1]+r[1]*256) + (256*r[0]+r[0]*3*3*r[1]+r[1]*256) +  (256*r[0]+r[0]*3*3*r[1]+r[1]*484) +  (484*r[0]+r[0]*3*3*r[1]+r[1]*484) + (484*r[0]+r[0]*3*3*r[1]+r[1]*484) + (484*r[0]+r[0]*3*3*r[1]+r[1]*484)\n",
    "lin = (4*4*256*1024)+(1024*512)+(512*10)\n",
    "dec4D = conv+lin\n",
    "print(\"4D decomposed network has \" + str(dec4D) + \" parameters. That is \" + str(100*dec4D/full) + \" % of total, which has \" + str(100*lin/dec4D) + \" % fully connected parameters.\")\n",
    "print(round(dec4D/full,2))\n",
    "\n",
    "inchannels = [3,64,64,144,144,256,256,256,484,484,484]\n",
    "outchannels = [64,64,144,144,256,256,256,484,484,484]\n",
    "kernels = [3,3,3,3,3,3,3,3,3,3,3]\n",
    "sizes = [32,32,16,16,8,8,8,4,4,4]\n",
    "lin = [[4*484,2048],[2048,1024],[1024,512],[512,10]]\n",
    "rank = [1,1]\n",
    "        \n",
    "ft1 = flopsnetwork_tucker_rank(inchannels,outchannels,kernels,sizes,lin,rank,flopscnntucker)\n",
    "print(ft1)\n",
    "print(round(ft1/ff,2))"
   ]
  },
  {
   "cell_type": "markdown",
   "metadata": {},
   "source": [
    "## rank 8"
   ]
  },
  {
   "cell_type": "code",
   "execution_count": 203,
   "metadata": {},
   "outputs": [
    {
     "name": "stdout",
     "output_type": "stream",
     "text": [
      "4D decomposed network has 4776120 parameters. That is 30.131120072272495 % of total, which has 98.90270763716154 % fully connected parameters.\n",
      "0.3\n",
      "11889152\n",
      "0.04\n"
     ]
    }
   ],
   "source": [
    "r = [8,8]\n",
    "#inc*r1*1+r1*k*r2*k+r2*outc*1\n",
    "conv = (3*r[0]+r[0]*3*3*r[1]+r[1]*64) + (64*r[0]+r[0]*3*3*r[1]+r[1]*64) + (64*r[0]+r[0]*3*3*r[1]+r[1]*144)+ (144*r[0]+r[0]*3*3*r[1]+r[1]*144) + (144*r[0]+r[0]*3*3*r[1]+r[1]*256) + (256*r[0]+r[0]*3*3*r[1]+r[1]*256) + (256*r[0]+r[0]*3*3*r[1]+r[1]*256) +  (256*r[0]+r[0]*3*3*r[1]+r[1]*484) +  (484*r[0]+r[0]*3*3*r[1]+r[1]*484) + (484*r[0]+r[0]*3*3*r[1]+r[1]*484) + (484*r[0]+r[0]*3*3*r[1]+r[1]*484)\n",
    "lin = (4*4*256*1024)+(1024*512)+(512*10)\n",
    "dec4D = conv+lin\n",
    "print(\"4D decomposed network has \" + str(dec4D) + \" parameters. That is \" + str(100*dec4D/full) + \" % of total, which has \" + str(100*lin/dec4D) + \" % fully connected parameters.\")\n",
    "print(round(dec4D/full,2))\n",
    "inchannels = [3,64,64,144,144,256,256,256,484,484,484]\n",
    "outchannels = [64,64,144,144,256,256,256,484,484,484]\n",
    "kernels = [3,3,3,3,3,3,3,3,3,3,3]\n",
    "sizes = [32,32,16,16,8,8,8,4,4,4]\n",
    "lin = [[4*484,2048],[2048,1024],[1024,512],[512,10]]\n",
    "rank = [8,8]\n",
    "        \n",
    "ft8 = flopsnetwork_tucker_rank(inchannels,outchannels,kernels,sizes,lin,rank,flopscnntucker)\n",
    "print(ft8)\n",
    "print(round(ft8/ff,2))\n"
   ]
  },
  {
   "cell_type": "markdown",
   "metadata": {},
   "source": [
    "# Webnet"
   ]
  },
  {
   "cell_type": "code",
   "execution_count": 212,
   "metadata": {},
   "outputs": [
    {
     "name": "stdout",
     "output_type": "stream",
     "text": [
      "102800\n",
      "For CIFAR100 webnet, which has 30425456 total parameters, of which 0.3378749689076147 % are fully connected parameters.\n",
      "3D decomposed network has 3503928 parameters. That is 11.516435448001173 % of total, which has 2.9338502389318504 % are fully connected parameters.\n",
      "0.12\n",
      "4D decomposed network has 112489 parameters. That is 0.36972001339930616 % of total, which has 91.38671336752927 % are fully connected parameters.\n",
      "0.004\n"
     ]
    }
   ],
   "source": [
    "conv = (3*3*3*64)+(64*3*3*128)+(128*3*3*128)+(128*3*3*128)+(128*3*3*256)+(256*3*3*512)+(512*3*3*512)+(512*3*3*512)+(512*3*3*1028)+(1028*3*3*1028)+(1028*3*3*1028)\n",
    "lin = 1028*100\n",
    "full = conv+lin\n",
    "print(lin)\n",
    "print(\"For CIFAR100 webnet, which has \" +str(full)+ \" total parameters, of which \" + str(100*(lin)/full) + \" % are fully connected parameters.\")\n",
    "conv = (3+3+3)*64+(64+3+3)*128+(128+3+3)*128+(128+3+3)*128+(128+3+3)*256+(256+3+3)*512+(512+3+3)*512+(512+3+3)*512+(512+3+3)*1028+(1028+3+3)*1028+(1028+3+3)*1028\n",
    "dec3D = conv+lin\n",
    "print(\"3D decomposed network has \" + str(dec3D) + \" parameters. That is \" + str(100*dec3D/full) + \" % of total, which has \" + str(100*(lin)/dec3D) + \" % are fully connected parameters.\")\n",
    "print(round(dec3D/full,2))\n",
    "conv = (3+3+3+64)+(64+3+3+128)+(128+3+3+128)+(128+3+3+128)+(128+3+3+256)+(256+3+3+512)+(512+3+3+512)+(512+3+3+512)+(512+3+3+1028)+(1028+3+3+1028)+(1028+3+3+1028)\n",
    "dec4D = conv+lin\n",
    "print(\"4D decomposed network has \" + str(dec4D) + \" parameters. That is \" + str(100*dec4D/full) + \" % of total, which has \" + str(100*(lin)/dec4D) + \" % are fully connected parameters.\")\n",
    "print(round(dec4D/full,3))"
   ]
  },
  {
   "cell_type": "code",
   "execution_count": 205,
   "metadata": {},
   "outputs": [],
   "source": [
    "def flopsnetwork(inchannels,outchannels,kernels,sizes,lin,floptype):\n",
    "    m = 0\n",
    "    for i in range(len(sizes)):\n",
    "        m += floptype(sizes[i],inchannels[i],outchannels[i],kernels[i])\n",
    "        #print(floptype(sizes[i],channels[i],channels[i+1],kernels[i]))\n",
    "    m += flopslin(lin[0],lin[1])\n",
    "    return m"
   ]
  },
  {
   "cell_type": "code",
   "execution_count": 206,
   "metadata": {},
   "outputs": [
    {
     "name": "stdout",
     "output_type": "stream",
     "text": [
      "701996240\n",
      "80426544\n",
      "737320\n",
      "0.11\n",
      "0.001\n"
     ]
    }
   ],
   "source": [
    "#channels,kernels,sizes,lin,floptype\n",
    "inchannels = [3,64,128,128,128,256,512,512,512,1028,1028]\n",
    "outchannels = [64,128,128,128,256,512,512,512,1028,1028,1028]\n",
    "kernels = [3,3,3,3,3,3,3,3,3,3,3]\n",
    "sizes = [32,32,16,16,8,8,8,4,4,4,2]\n",
    "lin = [1028,100]\n",
    "ff = flopsnetwork(inchannels, outchannels, kernels, sizes, lin, flopscnn)\n",
    "print(ff)\n",
    "f3 = flopsnetwork(inchannels, outchannels, kernels, sizes, lin, flopscnn3d)\n",
    "print(f3)\n",
    "f4 = flopsnetwork(inchannels, outchannels, kernels, sizes, lin, flopscnn4d)\n",
    "print(f4)\n",
    "print(round(f3/ff,2))\n",
    "print(round(f4/ff,3))"
   ]
  },
  {
   "cell_type": "code",
   "execution_count": 207,
   "metadata": {},
   "outputs": [],
   "source": [
    "#flop counting conv4\n",
    "\n",
    "def flopsnetwork_rank(inchannels,outchannels,kernels,sizes,lin,rank,floptype):\n",
    "    m = 0\n",
    "    for i in range(len(sizes)):\n",
    "        m += floptype(sizes[i],rank*inchannels[i],rank*outchannels[i],rank*kernels[i])\n",
    "        #print(floptype(sizes[i],channels[i],channels[i+1],kernels[i]))\n",
    "    m += flopslin(lin[0],lin[1])\n",
    "    return m"
   ]
  },
  {
   "cell_type": "code",
   "execution_count": 208,
   "metadata": {},
   "outputs": [
    {
     "name": "stdout",
     "output_type": "stream",
     "text": [
      "4D decomposed network has 180312 parameters. That is 0.5926353248411462 % of total, which has 57.0122898087759 % fully connected parameters.\n",
      "0.01\n",
      "5178960\n",
      "0.01\n"
     ]
    }
   ],
   "source": [
    "r = 8\n",
    "conv = r*((3+3+3+64)+(64+3+3+128)+(128+3+3+128)+(128+3+3+128)+(128+3+3+256)+(256+3+3+512)+(512+3+3+512)+(512+3+3+512)+(512+3+3+1028)+(1028+3+3+1028)+(1028+3+3+1028))\n",
    "lin = 1028*100\n",
    "dec4D = conv+lin\n",
    "print(\"4D decomposed network has \" + str(dec4D) + \" parameters. That is \" + str(100*dec4D/full) + \" % of total, which has \" + str(100*lin/dec4D) + \" % fully connected parameters.\")\n",
    "#inc+r*(k+k+outc)\n",
    "print(round(dec4D/full,2)) \n",
    "inchannels = [3,64,128,128,128,256,512,512,512,1028,1028]\n",
    "outchannels = [64,128,128,128,256,512,512,512,1028,1028,1028]\n",
    "kernels = [3,3,3,3,3,3,3,3,3,3,3]\n",
    "sizes = [32,32,16,16,8,8,8,4,4,4,2]\n",
    "lin = [1028,100]\n",
    "rank = 8\n",
    "\n",
    "f48 = flopsnetwork_rank(inchannels, outchannels, kernels, sizes, lin, rank, flopscnn4d)\n",
    "print(f48)\n",
    "print(round(f48/ff,2))"
   ]
  },
  {
   "cell_type": "code",
   "execution_count": 209,
   "metadata": {},
   "outputs": [],
   "source": [
    "def flopsnetwork_tucker_rank(inchannels,outchannels,kernels,sizes,lin,rank,floptype):\n",
    "    m = 0\n",
    "    for i in range(len(sizes)):\n",
    "        m += floptype(sizes[i],inchannels[i],outchannels[i],kernels[i],r)\n",
    "        #print(floptype(sizes[i],channels[i],channels[i+1],kernels[i]))\n",
    "    m += flopslin(lin[0],lin[1])\n",
    "    return m"
   ]
  },
  {
   "cell_type": "code",
   "execution_count": 210,
   "metadata": {},
   "outputs": [
    {
     "name": "stdout",
     "output_type": "stream",
     "text": [
      "4D decomposed network has 112522 parameters. That is 0.3698284752083913 % of total, which has 0.5687776612573541 % fully connected parameters.\n",
      "0.004\n",
      "745732\n",
      "0.001\n"
     ]
    }
   ],
   "source": [
    "r = [1,1]\n",
    "#inc*r1*1+r1*k*r2*k+r2*outc*1\n",
    "inchannels = [3,64,128,128,128,256,512,512,512,1028,1028]\n",
    "outchannels = [64,128,128,128,256,512,512,512,1028,1028,1028]\n",
    "kernels = [3,3,3,3,3,3,3,3,3,3,3]\n",
    "sizes = [32,32,16,16,8,8,8,4,4,4,2]\n",
    "lin = [1028,100]\n",
    "dec4D = 0\n",
    "for i in range(len(inchannels)):\n",
    "    dec4D += (inchannels[i]*r[0]+r[0]*kernels[i]*kernels[i]*r[1]+r[1]*outchannels[i])\n",
    "dec4D += lin[0]*lin[1]\n",
    "print(\"4D decomposed network has \" + str(dec4D) + \" parameters. That is \" + str(100*dec4D/full) + \" % of total, which has \" + str(100*(10*64)/dec4D) + \" % fully connected parameters.\")\n",
    "print(round(dec4D/full,3)) \n",
    "\n",
    "ft1 = flopsnetwork_tucker_rank(inchannels,outchannels,kernels,sizes,lin,rank,flopscnntucker)\n",
    "print(ft1)\n",
    "print(round(ft1/ff,3))"
   ]
  },
  {
   "cell_type": "code",
   "execution_count": 211,
   "metadata": {},
   "outputs": [
    {
     "name": "stdout",
     "output_type": "stream",
     "text": [
      "4D decomposed network has 186120 parameters. That is 0.6117246032401289 % of total, which has 0.3438641736514077 % fully connected parameters.\n",
      "0.01\n",
      "6659472\n",
      "0.01\n"
     ]
    }
   ],
   "source": [
    "r = [8,8]\n",
    "#inc*r1*1+r1*k*r2*k+r2*outc*1\n",
    "inchannels = [3,64,128,128,128,256,512,512,512,1028,1028]\n",
    "outchannels = [64,128,128,128,256,512,512,512,1028,1028,1028]\n",
    "kernels = [3,3,3,3,3,3,3,3,3,3,3]\n",
    "sizes = [32,32,16,16,8,8,8,4,4,4,2]\n",
    "lin = [1028,100]\n",
    "dec4D = 0\n",
    "for i in range(len(inchannels)):\n",
    "    dec4D += (inchannels[i]*r[0]+r[0]*kernels[i]*kernels[i]*r[1]+r[1]*outchannels[i])\n",
    "dec4D += lin[0]*lin[1]\n",
    "print(\"4D decomposed network has \" + str(dec4D) + \" parameters. That is \" + str(100*dec4D/full) + \" % of total, which has \" + str(100*(10*64)/dec4D) + \" % fully connected parameters.\")\n",
    "print(round(dec4D/full,2))      \n",
    "\n",
    "ft8 = flopsnetwork_tucker_rank(inchannels,outchannels,kernels,sizes,lin,rank,flopscnntucker)\n",
    "print(ft8)\n",
    "print(round(ft8/ff,2))"
   ]
  },
  {
   "cell_type": "code",
   "execution_count": null,
   "metadata": {},
   "outputs": [],
   "source": []
  }
 ],
 "metadata": {
  "colab": {
   "collapsed_sections": [],
   "name": "ComparingParameters",
   "provenance": []
  },
  "kernelspec": {
   "display_name": "Python 3",
   "language": "python",
   "name": "python3"
  },
  "language_info": {
   "codemirror_mode": {
    "name": "ipython",
    "version": 3
   },
   "file_extension": ".py",
   "mimetype": "text/x-python",
   "name": "python",
   "nbconvert_exporter": "python",
   "pygments_lexer": "ipython3",
   "version": "3.8.5"
  }
 },
 "nbformat": 4,
 "nbformat_minor": 1
}
