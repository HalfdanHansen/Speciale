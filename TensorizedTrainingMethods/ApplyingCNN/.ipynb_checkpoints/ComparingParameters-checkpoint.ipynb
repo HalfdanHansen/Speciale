{
 "cells": [
  {
   "cell_type": "code",
   "execution_count": null,
   "metadata": {
    "colab": {
     "base_uri": "https://localhost:8080/"
    },
    "id": "S29Tu4XossDo",
    "outputId": "f0bc6001-1da6-4d1c-cd1a-908dbc8933ac"
   },
   "outputs": [
    {
     "name": "stdout",
     "output_type": "stream",
     "text": [
      "For CNN4, which has 2631 total parameters, of which 55.872291904218926 % are fully connected parameters.\n",
      "3D decomposed network has 1743 parameters. That is 66.24857468643101 % of total, which has 84.33734939759036 % fully connected parameters.\n",
      "4D decomposed network has 1540 parameters. That is 58.53287723299126 % of total, which has 95.45454545454545 % fully connected parameters.\n"
     ]
    }
   ],
   "source": [
    "full = (10*7*7*3)+(3*3*1*3)+(3*3*3*6)+(3*3*6*12)+(3*3*12*3)\n",
    "print(\"For MNIST CNN4, which has \" +str(full)+ \" total parameters, of which \" + str(100*(10*7*7*3)/full) + \" % are fully connected parameters.\")\n",
    "\n",
    "dec3D = (10*7*7*3)+((3+3+1)*3+(3+3+3)*6+(3+3+6)*12+(3+3+12)*3)\n",
    "print(\"3D decomposed network has \" + str(dec3D) + \" parameters. That is \" + str(100*dec3D/full) + \" % of total, which has \" + str(100*(10*7*7*3)/dec3D) + \" % fully connected parameters.\")\n",
    "\n",
    "dec4D = (10*7*7*3)+(3+3+1+3)+(3+3+3+6)+(3+3+6+12)+(3+3+12+3)\n",
    "print(\"4D decomposed network has \" + str(dec4D) + \" parameters. That is \" + str(100*dec4D/full) + \" % of total, which has \" + str(100*(10*7*7*3)/dec4D) + \" % fully connected parameters.\")"
   ]
  },
  {
   "cell_type": "code",
   "execution_count": null,
   "metadata": {},
   "outputs": [],
   "source": [
    "#flop counting conv4\n",
    "\n",
    "def flops(s,ins,outs):\n",
    "    "
   ]
  },
  {
   "cell_type": "code",
   "execution_count": null,
   "metadata": {
    "colab": {
     "base_uri": "https://localhost:8080/"
    },
    "id": "VbA8iGKZ8kYA",
    "outputId": "50c155d7-e2bc-4ddb-e88e-da56b10cb2b1"
   },
   "outputs": [
    {
     "name": "stdout",
     "output_type": "stream",
     "text": [
      "For CNN500, which has 494496 total parameters, of which 0.1294247071766 % are fully connected parameters.\n",
      "3D decomposed network has 21344 parameters. That is 4.316313984339611 % of total, which has 2.998500749625187 % fully connected parameters.\n",
      "4D decomposed network has 1185 parameters. That is 0.23963793438167347 % of total, which has 54.0084388185654 % fully connected parameters.\n"
     ]
    }
   ],
   "source": [
    "full = (10*64)+(3*3*1*32)+(3*3*32*64)+(3*3*64*128)+(7*7*128*64)\n",
    "\n",
    "print(\"For MNIST CNN500, which has \" +str(full)+ \" total parameters, of which \" + str(100*(10*64)/full) + \" % are fully connected parameters.\")\n",
    "dec3D = (10*64)+((3+3+1)*32+(3+3+32)*64+(3+3+64)*128+(7+7+128)*64)\n",
    "print(\"3D decomposed network has \" + str(dec3D) + \" parameters. That is \" + str(100*dec3D/full) + \" % of total, which has \" + str(100*(10*64)/dec3D) + \" % fully connected parameters.\")\n",
    "\n",
    "dec4D = (10*64)+(3+3+1+32)+(3+3+32+64)+(3+3+64+128)+(7+7+128+64)\n",
    "print(\"4D decomposed network has \" + str(dec4D) + \" parameters. That is \" + str(100*dec4D/full) + \" % of total, which has \" + str(100*(10*64)/dec4D) + \" % fully connected parameters.\")"
   ]
  },
  {
   "cell_type": "code",
   "execution_count": null,
   "metadata": {
    "colab": {
     "base_uri": "https://localhost:8080/"
    },
    "id": "AKnzu2lxoXeh",
    "outputId": "90e82ee4-0c1b-447d-d435-65c14874daef"
   },
   "outputs": [
    {
     "name": "stdout",
     "output_type": "stream",
     "text": [
      "For CNN500, which has 224736 total parameters, of which 0.28477858465043426 % are fully connected parameters.\n",
      "3D decomposed network has 21024 parameters. That is 9.354976505766766 % of total, which has 3.0441400304414 % fully connected parameters.\n",
      "4D decomposed network has 1181 parameters. That is 0.5255054819877545 % of total, which has 54.191363251481796 % fully connected parameters.\n"
     ]
    }
   ],
   "source": [
    "full = (10*64)+(3*3*3*32)+(3*3*32*64)+(3*3*64*128)+(4*4*128*64)\n",
    "\n",
    "print(\"For CIFAR10 CNN500, which has \" +str(full)+ \" total parameters, of which \" + str(100*(10*64)/full) + \" % are fully connected parameters.\")\n",
    "dec3D = (10*64)+((3+3+3)*32+(3+3+32)*64+(3+3+64)*128+(4+4+128)*64)\n",
    "print(\"3D decomposed network has \" + str(dec3D) + \" parameters. That is \" + str(100*dec3D/full) + \" % of total, which has \" + str(100*(10*64)/dec3D) + \" % fully connected parameters.\")\n",
    "\n",
    "dec4D = (10*64)+(3+3+3+32)+(3+3+32+64)+(3+3+64+128)+(4+4+128+64)\n",
    "print(\"4D decomposed network has \" + str(dec4D) + \" parameters. That is \" + str(100*dec4D/full) + \" % of total, which has \" + str(100*(10*64)/dec4D) + \" % fully connected parameters.\")"
   ]
  },
  {
   "cell_type": "code",
   "execution_count": null,
   "metadata": {
    "colab": {
     "base_uri": "https://localhost:8080/"
    },
    "id": "ujT8ElsAroFj",
    "outputId": "dadd485e-0d00-4aa2-ed1e-d19ce60e9143"
   },
   "outputs": [
    {
     "data": {
      "text/plain": [
       "917344"
      ]
     },
     "execution_count": 17,
     "metadata": {
      "tags": []
     },
     "output_type": "execute_result"
    }
   ],
   "source": [
    "# [3,32,32]\n",
    "# [32,16,16]\n",
    "# [64,8,8]\n",
    "# [128,4,4]\n",
    "# [256,2,2]\n",
    "# [512,1,1]\n",
    "# [10]\n",
    "\n",
    "full = (3*3*3*32)+(3*3*32*64)+(3*3*64*128)+(3*3*128*256)+(3*3*256*512)+(10*512)\n",
    "\n",
    "print(\"For CIFAR10 CNN5, which has \" +str(full)+ \" total parameters, of which \" + str(100*((10*512))/full) + \" % are fully connected parameters.\")\n",
    "dec3D = (3+3+3)*32+(3+3+32)*64+(3+3+64)*128+(3+3+128)*256+(2+2+256)*512+(10*512)\n",
    "print(\"3D decomposed network has \" + str(dec3D) + \" parameters. That is \" + str(100*dec3D/full) + \" % of total, which has \" + str(100*(10*64)/dec3D) + \" % fully connected parameters.\")\n",
    "\n",
    "dec4D = (3*3*3*32)+(3*3*32*64)+(3*3*64*128)+(3*3*128*256)+(2*2*256*512)+(10*512)\n",
    "print(\"4D decomposed network has \" + str(dec4D) + \" parameters. That is \" + str(100*dec4D/full) + \" % of total, which has \" + str(100*(10*64)/dec4D) + \" % fully connected parameters.\")"
   ]
  },
  {
   "cell_type": "code",
   "execution_count": null,
   "metadata": {
    "id": "wORCvjX8uHR4"
   },
   "outputs": [],
   "source": [
    "# [3,32,32]    1\n",
    "# [32,16,16]   2\n",
    "# [64,8,8]     3\n",
    "# [128,4,4]    4\n",
    "# [128,4,4]    5\n",
    "# [128,4,4]    6\n",
    "# [128,1,1]    7\n",
    "# [10]\n",
    "\n",
    "full = (3*3*3*32)+(3*3*32*64)+(3*3*64*128)+(3*3*128*256)+(3*3*256*512)+(10*512)\n",
    "\n",
    "print(\"For CIFAR10 CNN52, which has \" +str(full)+ \" total parameters, of which \" + str(100*((10*512))/full) + \" % are fully connected parameters.\")\n",
    "dec3D = (3+3+3)*32+(3+3+32)*64+(3+3+64)*128+(3+3+128)*256+(2+2+256)*512+(10*512)\n",
    "print(\"3D decomposed network has \" + str(dec3D) + \" parameters. That is \" + str(100*dec3D/full) + \" % of total, which has \" + str(100*(10*64)/dec3D) + \" % fully connected parameters.\")\n",
    "\n",
    "dec4D = (3*3*3*32)+(3*3*32*64)+(3*3*64*128)+(3*3*128*256)+(2*2*256*512)+(10*512)\n",
    "print(\"4D decomposed network has \" + str(dec4D) + \" parameters. That is \" + str(100*dec4D/full) + \" % of total, which has \" + str(100*(10*64)/dec4D) + \" % fully connected parameters.\")"
   ]
  }
 ],
 "metadata": {
  "colab": {
   "collapsed_sections": [],
   "name": "ComparingParameters",
   "provenance": []
  },
  "kernelspec": {
   "display_name": "Python 3",
   "language": "python",
   "name": "python3"
  },
  "language_info": {
   "codemirror_mode": {
    "name": "ipython",
    "version": 3
   },
   "file_extension": ".py",
   "mimetype": "text/x-python",
   "name": "python",
   "nbconvert_exporter": "python",
   "pygments_lexer": "ipython3",
   "version": "3.8.5"
  }
 },
 "nbformat": 4,
 "nbformat_minor": 1
}
