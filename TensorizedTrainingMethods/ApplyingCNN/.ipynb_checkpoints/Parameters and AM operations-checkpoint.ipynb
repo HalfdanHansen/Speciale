{
 "cells": [
  {
   "cell_type": "markdown",
   "metadata": {},
   "source": [
    "# Parameter func"
   ]
  },
  {
   "cell_type": "code",
   "execution_count": 19,
   "metadata": {},
   "outputs": [],
   "source": [
    "def paramcnn(inc,outc,k,r):\n",
    "    return inc*outc*k*k\n",
    "                                    \n",
    "def paramcnn3d(inc,outc,k,r):\n",
    "    return (inc+k+k)*outc\n",
    "\n",
    "def paramcnn4d(inc,outc,k,r):\n",
    "    return r*(inc+k+k+outc)\n",
    "\n",
    "def paramcnnlin(inc,outc):\n",
    "    return inc*outc\n",
    "\n",
    "def paramcnntucker(inc,outc,k,r):\n",
    "    return inc*r[0]+r[0]*k*k*r[1]+r[1]*outc\n",
    "\n",
    "def paramnetwork(inchannels,outchannels,kernels,lin,rank,paramtype):\n",
    "    m = 0\n",
    "    for i in range(len(inchannels)):\n",
    "        m += paramtype(inchannels[i],outchannels[i],kernels[i],rank)\n",
    "    if len(lin) == 1:\n",
    "        m += paramcnnlin(lin[0][0],lin[0][1])\n",
    "    else:\n",
    "        for l in lin:\n",
    "            m += paramcnnlin(l[0],l[1])\n",
    "    return m"
   ]
  },
  {
   "cell_type": "markdown",
   "metadata": {},
   "source": [
    "# AM operation funcs"
   ]
  },
  {
   "cell_type": "code",
   "execution_count": 20,
   "metadata": {},
   "outputs": [],
   "source": [
    "#one linear layer\n",
    "def AMcnn(s,insc,outsc,k,r):\n",
    "    return k*k*s*s*insc*outsc\n",
    "\n",
    "def AMcnn3d(s,insc,outsc,k,r):\n",
    "    return (insc+k+k)*outsc*s*s\n",
    "\n",
    "def AMcnn4d(s,insc,outsc,k,r):\n",
    "    return r*(insc+k+k+outsc)*s*s\n",
    "\n",
    "def AMlin(ins,outs):\n",
    "    return ins*outs\n",
    "\n",
    "def AMcnntucker(s,insc,outsc,k,r):\n",
    "    return (insc*r[0]+r[0]*k*k*r[1]+outsc*r[1])*s*s\n",
    "\n",
    "def AMnetwork(inchannels,outchannels,kernels,sizes,lin,rank,AMtype):\n",
    "    m = 0\n",
    "    for i in range(len(sizes)):\n",
    "        m += AMtype(sizes[i],inchannels[i],outchannels[i],kernels[i],rank)\n",
    "        #print(floptype(sizes[i],channels[i],channels[i+1],kernels[i   \n",
    "    if len(lin) == 1:\n",
    "        m += AMlin(lin[0][0],lin[0][1])\n",
    "    else:\n",
    "        for l in lin:\n",
    "            m += AMlin(l[0],l[1])\n",
    "    return m"
   ]
  },
  {
   "cell_type": "code",
   "execution_count": null,
   "metadata": {},
   "outputs": [],
   "source": []
  }
 ],
 "metadata": {
  "kernelspec": {
   "display_name": "Python 3",
   "language": "python",
   "name": "python3"
  },
  "language_info": {
   "codemirror_mode": {
    "name": "ipython",
    "version": 3
   },
   "file_extension": ".py",
   "mimetype": "text/x-python",
   "name": "python",
   "nbconvert_exporter": "python",
   "pygments_lexer": "ipython3",
   "version": "3.8.5"
  }
 },
 "nbformat": 4,
 "nbformat_minor": 4
}
